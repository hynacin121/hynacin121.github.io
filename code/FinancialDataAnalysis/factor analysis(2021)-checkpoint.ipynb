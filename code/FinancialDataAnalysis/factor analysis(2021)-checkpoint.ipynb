{
 "cells": [
  {
   "cell_type": "code",
   "execution_count": 2,
   "metadata": {},
   "outputs": [],
   "source": [
    "import pandas as pd\n",
    "import numpy as np\n",
    "import matplotlib.pyplot as plt\n",
    "import FinanceDataReader as fdr\n",
    "import statsmodels.api as sm\n",
    "import seaborn as sns\n",
    "import pickle\n",
    "from sklearn.decomposition import PCA\n",
    "\n",
    "%matplotlib inline"
   ]
  },
  {
   "cell_type": "code",
   "execution_count": 3,
   "metadata": {},
   "outputs": [],
   "source": [
    "kscap = pd.read_csv('data/코스피시가총액.csv', index_col=0, parse_dates=True)\n",
    "samcap = pd.read_csv('data/삼성전자시가총액.csv', index_col=0, parse_dates = True)"
   ]
  },
  {
   "cell_type": "code",
   "execution_count": 5,
   "metadata": {},
   "outputs": [
    {
     "data": {
      "text/html": [
       "<div>\n",
       "<style scoped>\n",
       "    .dataframe tbody tr th:only-of-type {\n",
       "        vertical-align: middle;\n",
       "    }\n",
       "\n",
       "    .dataframe tbody tr th {\n",
       "        vertical-align: top;\n",
       "    }\n",
       "\n",
       "    .dataframe thead th {\n",
       "        text-align: right;\n",
       "    }\n",
       "</style>\n",
       "<table border=\"1\" class=\"dataframe\">\n",
       "  <thead>\n",
       "    <tr style=\"text-align: right;\">\n",
       "      <th></th>\n",
       "      <th>Large</th>\n",
       "      <th>Large Point</th>\n",
       "      <th>Mid</th>\n",
       "      <th>Mid Point</th>\n",
       "      <th>Small</th>\n",
       "      <th>Small Point</th>\n",
       "      <th>Kospi Total</th>\n",
       "      <th>Kospi Point</th>\n",
       "    </tr>\n",
       "    <tr>\n",
       "      <th>date</th>\n",
       "      <th></th>\n",
       "      <th></th>\n",
       "      <th></th>\n",
       "      <th></th>\n",
       "      <th></th>\n",
       "      <th></th>\n",
       "      <th></th>\n",
       "      <th></th>\n",
       "    </tr>\n",
       "  </thead>\n",
       "  <tbody>\n",
       "    <tr>\n",
       "      <th>2009-01-02</th>\n",
       "      <td>491624628.0</td>\n",
       "      <td>1132.10</td>\n",
       "      <td>59002319.0</td>\n",
       "      <td>1398.72</td>\n",
       "      <td>16699437.0</td>\n",
       "      <td>764.58</td>\n",
       "      <td>593842360.0</td>\n",
       "      <td>1157.40</td>\n",
       "    </tr>\n",
       "    <tr>\n",
       "      <th>2009-01-05</th>\n",
       "      <td>500247280.0</td>\n",
       "      <td>1151.94</td>\n",
       "      <td>58410046.0</td>\n",
       "      <td>1384.63</td>\n",
       "      <td>16768471.0</td>\n",
       "      <td>767.62</td>\n",
       "      <td>602228320.0</td>\n",
       "      <td>1173.57</td>\n",
       "    </tr>\n",
       "  </tbody>\n",
       "</table>\n",
       "</div>"
      ],
      "text/plain": [
       "                  Large  Large Point         Mid  Mid Point       Small  \\\n",
       "date                                                                      \n",
       "2009-01-02  491624628.0      1132.10  59002319.0    1398.72  16699437.0   \n",
       "2009-01-05  500247280.0      1151.94  58410046.0    1384.63  16768471.0   \n",
       "\n",
       "            Small Point  Kospi Total  Kospi Point  \n",
       "date                                               \n",
       "2009-01-02       764.58  593842360.0      1157.40  \n",
       "2009-01-05       767.62  602228320.0      1173.57  "
      ]
     },
     "execution_count": 5,
     "metadata": {},
     "output_type": "execute_result"
    }
   ],
   "source": [
    "kscap.head(2)"
   ]
  },
  {
   "cell_type": "code",
   "execution_count": 6,
   "metadata": {},
   "outputs": [
    {
     "data": {
      "text/html": [
       "<div>\n",
       "<style scoped>\n",
       "    .dataframe tbody tr th:only-of-type {\n",
       "        vertical-align: middle;\n",
       "    }\n",
       "\n",
       "    .dataframe tbody tr th {\n",
       "        vertical-align: top;\n",
       "    }\n",
       "\n",
       "    .dataframe thead th {\n",
       "        text-align: right;\n",
       "    }\n",
       "</style>\n",
       "<table border=\"1\" class=\"dataframe\">\n",
       "  <thead>\n",
       "    <tr style=\"text-align: right;\">\n",
       "      <th></th>\n",
       "      <th>Samsung</th>\n",
       "    </tr>\n",
       "    <tr>\n",
       "      <th>date</th>\n",
       "      <th></th>\n",
       "    </tr>\n",
       "  </thead>\n",
       "  <tbody>\n",
       "    <tr>\n",
       "      <th>2009-01-02</th>\n",
       "      <td>69230688</td>\n",
       "    </tr>\n",
       "    <tr>\n",
       "      <th>2009-01-05</th>\n",
       "      <td>70114484</td>\n",
       "    </tr>\n",
       "  </tbody>\n",
       "</table>\n",
       "</div>"
      ],
      "text/plain": [
       "             Samsung\n",
       "date                \n",
       "2009-01-02  69230688\n",
       "2009-01-05  70114484"
      ]
     },
     "execution_count": 6,
     "metadata": {},
     "output_type": "execute_result"
    }
   ],
   "source": [
    "samcap.head(2)"
   ]
  },
  {
   "cell_type": "code",
   "execution_count": 7,
   "metadata": {},
   "outputs": [
    {
     "data": {
      "text/plain": [
       "date\n",
       "2009-01-02    524611672.0\n",
       "2009-01-05    532113836.0\n",
       "dtype: float64"
      ]
     },
     "execution_count": 7,
     "metadata": {},
     "output_type": "execute_result"
    }
   ],
   "source": [
    "ks_star = kscap[\"Kospi Total\"] - samcap[\"Samsung\"]\n",
    "ks_star.head(2)"
   ]
  },
  {
   "cell_type": "code",
   "execution_count": 14,
   "metadata": {},
   "outputs": [
    {
     "data": {
      "text/html": [
       "<div>\n",
       "<style scoped>\n",
       "    .dataframe tbody tr th:only-of-type {\n",
       "        vertical-align: middle;\n",
       "    }\n",
       "\n",
       "    .dataframe tbody tr th {\n",
       "        vertical-align: top;\n",
       "    }\n",
       "\n",
       "    .dataframe thead th {\n",
       "        text-align: right;\n",
       "    }\n",
       "</style>\n",
       "<table border=\"1\" class=\"dataframe\">\n",
       "  <thead>\n",
       "    <tr style=\"text-align: right;\">\n",
       "      <th></th>\n",
       "      <th>large</th>\n",
       "      <th>mid</th>\n",
       "      <th>small</th>\n",
       "      <th>kospi</th>\n",
       "      <th>new_kospi</th>\n",
       "    </tr>\n",
       "    <tr>\n",
       "      <th>date</th>\n",
       "      <th></th>\n",
       "      <th></th>\n",
       "      <th></th>\n",
       "      <th></th>\n",
       "      <th></th>\n",
       "    </tr>\n",
       "  </thead>\n",
       "  <tbody>\n",
       "    <tr>\n",
       "      <th>2009-01-05</th>\n",
       "      <td>0.017525</td>\n",
       "      <td>-0.010073</td>\n",
       "      <td>0.003976</td>\n",
       "      <td>0.013971</td>\n",
       "      <td>0.014300</td>\n",
       "    </tr>\n",
       "    <tr>\n",
       "      <th>2009-01-06</th>\n",
       "      <td>0.019090</td>\n",
       "      <td>0.013217</td>\n",
       "      <td>0.016050</td>\n",
       "      <td>0.017647</td>\n",
       "      <td>0.014486</td>\n",
       "    </tr>\n",
       "  </tbody>\n",
       "</table>\n",
       "</div>"
      ],
      "text/plain": [
       "               large       mid     small     kospi  new_kospi\n",
       "date                                                         \n",
       "2009-01-05  0.017525 -0.010073  0.003976  0.013971   0.014300\n",
       "2009-01-06  0.019090  0.013217  0.016050  0.017647   0.014486"
      ]
     },
     "execution_count": 14,
     "metadata": {},
     "output_type": "execute_result"
    }
   ],
   "source": [
    "cap_korea = pd.concat([kscap[[\"Large Point\", \"Mid Point\", 'Small Point', 'Kospi Point']], ks_star], axis=1)\n",
    "ret_korea = cap_korea.pct_change().dropna()\n",
    "\n",
    "rename = ['large', 'mid', 'small', 'kospi', 'new_kospi']\n",
    "ret_korea.columns = rename\n",
    "ret_korea.head(2)"
   ]
  },
  {
   "cell_type": "code",
   "execution_count": 20,
   "metadata": {},
   "outputs": [
    {
     "data": {
      "text/html": [
       "<div>\n",
       "<style scoped>\n",
       "    .dataframe tbody tr th:only-of-type {\n",
       "        vertical-align: middle;\n",
       "    }\n",
       "\n",
       "    .dataframe tbody tr th {\n",
       "        vertical-align: top;\n",
       "    }\n",
       "\n",
       "    .dataframe thead th {\n",
       "        text-align: right;\n",
       "    }\n",
       "</style>\n",
       "<table border=\"1\" class=\"dataframe\">\n",
       "  <thead>\n",
       "    <tr style=\"text-align: right;\">\n",
       "      <th></th>\n",
       "      <th>000020</th>\n",
       "      <th>000030</th>\n",
       "      <th>000040</th>\n",
       "      <th>000050</th>\n",
       "      <th>000060</th>\n",
       "      <th>000070</th>\n",
       "      <th>000075</th>\n",
       "      <th>000080</th>\n",
       "      <th>000087</th>\n",
       "      <th>000100</th>\n",
       "      <th>...</th>\n",
       "      <th>285130</th>\n",
       "      <th>28513K</th>\n",
       "      <th>286940</th>\n",
       "      <th>293940</th>\n",
       "      <th>294870</th>\n",
       "      <th>298000</th>\n",
       "      <th>298020</th>\n",
       "      <th>298040</th>\n",
       "      <th>298050</th>\n",
       "      <th>300720</th>\n",
       "    </tr>\n",
       "    <tr>\n",
       "      <th>date</th>\n",
       "      <th></th>\n",
       "      <th></th>\n",
       "      <th></th>\n",
       "      <th></th>\n",
       "      <th></th>\n",
       "      <th></th>\n",
       "      <th></th>\n",
       "      <th></th>\n",
       "      <th></th>\n",
       "      <th></th>\n",
       "      <th></th>\n",
       "      <th></th>\n",
       "      <th></th>\n",
       "      <th></th>\n",
       "      <th></th>\n",
       "      <th></th>\n",
       "      <th></th>\n",
       "      <th></th>\n",
       "      <th></th>\n",
       "      <th></th>\n",
       "      <th></th>\n",
       "    </tr>\n",
       "  </thead>\n",
       "  <tbody>\n",
       "    <tr>\n",
       "      <th>2009-07-14</th>\n",
       "      <td>9900</td>\n",
       "      <td>NaN</td>\n",
       "      <td>692</td>\n",
       "      <td>11020</td>\n",
       "      <td>6666</td>\n",
       "      <td>43972</td>\n",
       "      <td>28050</td>\n",
       "      <td>NaN</td>\n",
       "      <td>NaN</td>\n",
       "      <td>155010</td>\n",
       "      <td>...</td>\n",
       "      <td>NaN</td>\n",
       "      <td>NaN</td>\n",
       "      <td>NaN</td>\n",
       "      <td>NaN</td>\n",
       "      <td>NaN</td>\n",
       "      <td>NaN</td>\n",
       "      <td>NaN</td>\n",
       "      <td>NaN</td>\n",
       "      <td>NaN</td>\n",
       "      <td>NaN</td>\n",
       "    </tr>\n",
       "    <tr>\n",
       "      <th>2009-07-15</th>\n",
       "      <td>9900</td>\n",
       "      <td>NaN</td>\n",
       "      <td>714</td>\n",
       "      <td>11287</td>\n",
       "      <td>7052</td>\n",
       "      <td>44491</td>\n",
       "      <td>29400</td>\n",
       "      <td>NaN</td>\n",
       "      <td>NaN</td>\n",
       "      <td>154172</td>\n",
       "      <td>...</td>\n",
       "      <td>NaN</td>\n",
       "      <td>NaN</td>\n",
       "      <td>NaN</td>\n",
       "      <td>NaN</td>\n",
       "      <td>NaN</td>\n",
       "      <td>NaN</td>\n",
       "      <td>NaN</td>\n",
       "      <td>NaN</td>\n",
       "      <td>NaN</td>\n",
       "      <td>NaN</td>\n",
       "    </tr>\n",
       "  </tbody>\n",
       "</table>\n",
       "<p>2 rows × 901 columns</p>\n",
       "</div>"
      ],
      "text/plain": [
       "            000020  000030  000040  000050  000060  000070  000075  000080  \\\n",
       "date                                                                         \n",
       "2009-07-14    9900     NaN     692   11020    6666   43972   28050     NaN   \n",
       "2009-07-15    9900     NaN     714   11287    7052   44491   29400     NaN   \n",
       "\n",
       "            000087  000100  ...  285130  28513K  286940  293940  294870  \\\n",
       "date                        ...                                           \n",
       "2009-07-14     NaN  155010  ...     NaN     NaN     NaN     NaN     NaN   \n",
       "2009-07-15     NaN  154172  ...     NaN     NaN     NaN     NaN     NaN   \n",
       "\n",
       "            298000  298020  298040  298050  300720  \n",
       "date                                                \n",
       "2009-07-14     NaN     NaN     NaN     NaN     NaN  \n",
       "2009-07-15     NaN     NaN     NaN     NaN     NaN  \n",
       "\n",
       "[2 rows x 901 columns]"
      ]
     },
     "execution_count": 20,
     "metadata": {},
     "output_type": "execute_result"
    }
   ],
   "source": [
    "stk_prices = pd.read_pickle('data/수정주가.pkl')\n",
    "df = pd.DataFrame()\n",
    "for i in list(stk_prices.keys()):\n",
    "    df[i] = stk_prices[i][i]\n",
    "stk_prices = df.copy()\n",
    "stk_prices.head(2)"
   ]
  },
  {
   "cell_type": "code",
   "execution_count": 23,
   "metadata": {},
   "outputs": [
    {
     "data": {
      "text/html": [
       "<div>\n",
       "<style scoped>\n",
       "    .dataframe tbody tr th:only-of-type {\n",
       "        vertical-align: middle;\n",
       "    }\n",
       "\n",
       "    .dataframe tbody tr th {\n",
       "        vertical-align: top;\n",
       "    }\n",
       "\n",
       "    .dataframe thead th {\n",
       "        text-align: right;\n",
       "    }\n",
       "</style>\n",
       "<table border=\"1\" class=\"dataframe\">\n",
       "  <thead>\n",
       "    <tr style=\"text-align: right;\">\n",
       "      <th></th>\n",
       "      <th>000020</th>\n",
       "      <th>000040</th>\n",
       "      <th>000050</th>\n",
       "      <th>000060</th>\n",
       "      <th>000070</th>\n",
       "      <th>000075</th>\n",
       "      <th>000080</th>\n",
       "      <th>000100</th>\n",
       "      <th>000105</th>\n",
       "      <th>000120</th>\n",
       "      <th>...</th>\n",
       "      <th>104700</th>\n",
       "      <th>105560</th>\n",
       "      <th>105630</th>\n",
       "      <th>107590</th>\n",
       "      <th>108670</th>\n",
       "      <th>108675</th>\n",
       "      <th>109070</th>\n",
       "      <th>111770</th>\n",
       "      <th>114090</th>\n",
       "      <th>118000</th>\n",
       "    </tr>\n",
       "    <tr>\n",
       "      <th>date</th>\n",
       "      <th></th>\n",
       "      <th></th>\n",
       "      <th></th>\n",
       "      <th></th>\n",
       "      <th></th>\n",
       "      <th></th>\n",
       "      <th></th>\n",
       "      <th></th>\n",
       "      <th></th>\n",
       "      <th></th>\n",
       "      <th></th>\n",
       "      <th></th>\n",
       "      <th></th>\n",
       "      <th></th>\n",
       "      <th></th>\n",
       "      <th></th>\n",
       "      <th></th>\n",
       "      <th></th>\n",
       "      <th></th>\n",
       "      <th></th>\n",
       "      <th></th>\n",
       "    </tr>\n",
       "  </thead>\n",
       "  <tbody>\n",
       "    <tr>\n",
       "      <th>2010-01-04</th>\n",
       "      <td>-0.007916</td>\n",
       "      <td>0.062945</td>\n",
       "      <td>0.015563</td>\n",
       "      <td>0.052663</td>\n",
       "      <td>0.004470</td>\n",
       "      <td>-0.007937</td>\n",
       "      <td>0.003769</td>\n",
       "      <td>-0.011236</td>\n",
       "      <td>-0.017724</td>\n",
       "      <td>-0.038801</td>\n",
       "      <td>...</td>\n",
       "      <td>0.006803</td>\n",
       "      <td>-0.005025</td>\n",
       "      <td>0.046481</td>\n",
       "      <td>0.007109</td>\n",
       "      <td>-0.004167</td>\n",
       "      <td>-0.003846</td>\n",
       "      <td>0.004057</td>\n",
       "      <td>-0.029915</td>\n",
       "      <td>0.005089</td>\n",
       "      <td>-0.149235</td>\n",
       "    </tr>\n",
       "    <tr>\n",
       "      <th>2010-01-05</th>\n",
       "      <td>-0.002660</td>\n",
       "      <td>-0.008939</td>\n",
       "      <td>0.003730</td>\n",
       "      <td>0.019436</td>\n",
       "      <td>-0.005568</td>\n",
       "      <td>-0.002667</td>\n",
       "      <td>0.006258</td>\n",
       "      <td>0.005679</td>\n",
       "      <td>0.061373</td>\n",
       "      <td>-0.001835</td>\n",
       "      <td>...</td>\n",
       "      <td>0.032658</td>\n",
       "      <td>-0.011785</td>\n",
       "      <td>0.073008</td>\n",
       "      <td>0.122353</td>\n",
       "      <td>-0.012552</td>\n",
       "      <td>0.000000</td>\n",
       "      <td>-0.016236</td>\n",
       "      <td>-0.013216</td>\n",
       "      <td>0.050633</td>\n",
       "      <td>0.000000</td>\n",
       "    </tr>\n",
       "  </tbody>\n",
       "</table>\n",
       "<p>2 rows × 733 columns</p>\n",
       "</div>"
      ],
      "text/plain": [
       "              000020    000040    000050    000060    000070    000075  \\\n",
       "date                                                                     \n",
       "2010-01-04 -0.007916  0.062945  0.015563  0.052663  0.004470 -0.007937   \n",
       "2010-01-05 -0.002660 -0.008939  0.003730  0.019436 -0.005568 -0.002667   \n",
       "\n",
       "              000080    000100    000105    000120  ...    104700    105560  \\\n",
       "date                                                ...                       \n",
       "2010-01-04  0.003769 -0.011236 -0.017724 -0.038801  ...  0.006803 -0.005025   \n",
       "2010-01-05  0.006258  0.005679  0.061373 -0.001835  ...  0.032658 -0.011785   \n",
       "\n",
       "              105630    107590    108670    108675    109070    111770  \\\n",
       "date                                                                     \n",
       "2010-01-04  0.046481  0.007109 -0.004167 -0.003846  0.004057 -0.029915   \n",
       "2010-01-05  0.073008  0.122353 -0.012552  0.000000 -0.016236 -0.013216   \n",
       "\n",
       "              114090    118000  \n",
       "date                            \n",
       "2010-01-04  0.005089 -0.149235  \n",
       "2010-01-05  0.050633  0.000000  \n",
       "\n",
       "[2 rows x 733 columns]"
      ]
     },
     "execution_count": 23,
     "metadata": {},
     "output_type": "execute_result"
    }
   ],
   "source": [
    "ret_kr_stks = stk_prices.pct_change()[\"2010\":\"2017\"].dropna(axis=1)\n",
    "ret_kr_stks.head(2)"
   ]
  },
  {
   "cell_type": "markdown",
   "metadata": {},
   "source": [
    "# PCA"
   ]
  },
  {
   "cell_type": "code",
   "execution_count": 24,
   "metadata": {},
   "outputs": [],
   "source": [
    "centered = ret_kr_stks - ret_kr_stks.mean()\n",
    "cov = centered.cov()\n",
    "eigval, eigvec = np.linalg.eig(cov)"
   ]
  },
  {
   "cell_type": "code",
   "execution_count": 25,
   "metadata": {},
   "outputs": [],
   "source": [
    "reorder_idx = eigval.argsort()[::-1]\n",
    "eigval = eigval[reorder_idx]\n",
    "eigvec = eigvec[reorder_idx]"
   ]
  },
  {
   "cell_type": "code",
   "execution_count": 28,
   "metadata": {},
   "outputs": [
    {
     "data": {
      "text/plain": [
       "0.09564175165676816"
      ]
     },
     "execution_count": 28,
     "metadata": {},
     "output_type": "execute_result"
    }
   ],
   "source": [
    "eigval[0] / eigval.sum()"
   ]
  },
  {
   "cell_type": "code",
   "execution_count": null,
   "metadata": {},
   "outputs": [],
   "source": []
  },
  {
   "cell_type": "code",
   "execution_count": 26,
   "metadata": {},
   "outputs": [],
   "source": [
    "pc1 = centered.dot(eigvec[:,0])"
   ]
  },
  {
   "cell_type": "code",
   "execution_count": 27,
   "metadata": {},
   "outputs": [
    {
     "data": {
      "text/plain": [
       "0.3360973629366128"
      ]
     },
     "execution_count": 27,
     "metadata": {},
     "output_type": "execute_result"
    }
   ],
   "source": [
    "# Correlation : PC1 ~ Samsung\n",
    "\n",
    "pc1.corr(ret_kr_stks['005930'])"
   ]
  },
  {
   "cell_type": "code",
   "execution_count": 29,
   "metadata": {},
   "outputs": [
    {
     "data": {
      "text/plain": [
       "0.9988309412530412"
      ]
     },
     "execution_count": 29,
     "metadata": {},
     "output_type": "execute_result"
    }
   ],
   "source": [
    "# Correlation : PC1 ~ Equal weight market\n",
    "\n",
    "pc1.corr(ret_kr_stks.mean(axis=1))"
   ]
  },
  {
   "cell_type": "markdown",
   "metadata": {},
   "source": [
    "# Regression"
   ]
  },
  {
   "cell_type": "markdown",
   "metadata": {},
   "source": [
    "## Making factor returns (smb, hml)"
   ]
  },
  {
   "cell_type": "code",
   "execution_count": 33,
   "metadata": {},
   "outputs": [
    {
     "data": {
      "text/html": [
       "<div>\n",
       "<style scoped>\n",
       "    .dataframe tbody tr th:only-of-type {\n",
       "        vertical-align: middle;\n",
       "    }\n",
       "\n",
       "    .dataframe tbody tr th {\n",
       "        vertical-align: top;\n",
       "    }\n",
       "\n",
       "    .dataframe thead th {\n",
       "        text-align: right;\n",
       "    }\n",
       "</style>\n",
       "<table border=\"1\" class=\"dataframe\">\n",
       "  <thead>\n",
       "    <tr style=\"text-align: right;\">\n",
       "      <th></th>\n",
       "      <th>대형 - High</th>\n",
       "      <th>대형 - Medium</th>\n",
       "      <th>대형 - Low</th>\n",
       "      <th>소형 - High</th>\n",
       "      <th>소형 - Medium</th>\n",
       "      <th>소형 - Low</th>\n",
       "    </tr>\n",
       "    <tr>\n",
       "      <th>Symbol Name</th>\n",
       "      <th></th>\n",
       "      <th></th>\n",
       "      <th></th>\n",
       "      <th></th>\n",
       "      <th></th>\n",
       "      <th></th>\n",
       "    </tr>\n",
       "  </thead>\n",
       "  <tbody>\n",
       "    <tr>\n",
       "      <th>2010-01-04</th>\n",
       "      <td>0.74</td>\n",
       "      <td>0.92</td>\n",
       "      <td>0.83</td>\n",
       "      <td>1.33</td>\n",
       "      <td>2.26</td>\n",
       "      <td>3.17</td>\n",
       "    </tr>\n",
       "    <tr>\n",
       "      <th>2010-01-05</th>\n",
       "      <td>-1.73</td>\n",
       "      <td>0.22</td>\n",
       "      <td>-0.42</td>\n",
       "      <td>0.56</td>\n",
       "      <td>0.92</td>\n",
       "      <td>1.69</td>\n",
       "    </tr>\n",
       "  </tbody>\n",
       "</table>\n",
       "</div>"
      ],
      "text/plain": [
       "             대형 - High  대형 - Medium  대형 - Low  소형 - High  소형 - Medium  \\\n",
       "Symbol Name                                                             \n",
       "2010-01-04        0.74         0.92      0.83       1.33         2.26   \n",
       "2010-01-05       -1.73         0.22     -0.42       0.56         0.92   \n",
       "\n",
       "             소형 - Low  \n",
       "Symbol Name            \n",
       "2010-01-04       3.17  \n",
       "2010-01-05       1.69  "
      ]
     },
     "execution_count": 33,
     "metadata": {},
     "output_type": "execute_result"
    }
   ],
   "source": [
    "kr_factor = pd.read_excel(\"data/kr_factor_data.xlsx\", index_col=0, parse_dates=True)\n",
    "kr_factor.head(2)"
   ]
  },
  {
   "cell_type": "code",
   "execution_count": 35,
   "metadata": {},
   "outputs": [
    {
     "data": {
      "text/plain": [
       "Index(['대형 - High', '대형 - Medium', '대형 - Low', '소형 - High', '소형 - Medium',\n",
       "       '소형 - Low'],\n",
       "      dtype='object')"
      ]
     },
     "execution_count": 35,
     "metadata": {},
     "output_type": "execute_result"
    }
   ],
   "source": [
    "col_nms = kr_factor.columns\n",
    "col_nms"
   ]
  },
  {
   "cell_type": "code",
   "execution_count": 36,
   "metadata": {},
   "outputs": [
    {
     "data": {
      "text/plain": [
       "Index(['소형 - High', '소형 - Medium', '소형 - Low'], dtype='object')"
      ]
     },
     "execution_count": 36,
     "metadata": {},
     "output_type": "execute_result"
    }
   ],
   "source": [
    "large_ = col_nms[:3]\n",
    "small_ = col_nms[3:]\n",
    "small_"
   ]
  },
  {
   "cell_type": "code",
   "execution_count": 37,
   "metadata": {},
   "outputs": [],
   "source": [
    "kr_smb = 1/3*(kr_factor[small_].sum(axis=1) - kr_factor[large_].sum(axis=1))\n",
    "kr_hml = 1/2*((kr_factor['대형 - High']+kr_factor['소형 - High']) - (kr_factor['대형 - Low']+kr_factor['소형 - Low']))"
   ]
  },
  {
   "cell_type": "code",
   "execution_count": 39,
   "metadata": {},
   "outputs": [
    {
     "data": {
      "text/html": [
       "<div>\n",
       "<style scoped>\n",
       "    .dataframe tbody tr th:only-of-type {\n",
       "        vertical-align: middle;\n",
       "    }\n",
       "\n",
       "    .dataframe tbody tr th {\n",
       "        vertical-align: top;\n",
       "    }\n",
       "\n",
       "    .dataframe thead th {\n",
       "        text-align: right;\n",
       "    }\n",
       "</style>\n",
       "<table border=\"1\" class=\"dataframe\">\n",
       "  <thead>\n",
       "    <tr style=\"text-align: right;\">\n",
       "      <th></th>\n",
       "      <th>SMB</th>\n",
       "      <th>HML</th>\n",
       "    </tr>\n",
       "    <tr>\n",
       "      <th>Symbol Name</th>\n",
       "      <th></th>\n",
       "      <th></th>\n",
       "    </tr>\n",
       "  </thead>\n",
       "  <tbody>\n",
       "    <tr>\n",
       "      <th>2010-01-04</th>\n",
       "      <td>0.014233</td>\n",
       "      <td>-0.00965</td>\n",
       "    </tr>\n",
       "    <tr>\n",
       "      <th>2010-01-05</th>\n",
       "      <td>0.017000</td>\n",
       "      <td>-0.01220</td>\n",
       "    </tr>\n",
       "  </tbody>\n",
       "</table>\n",
       "</div>"
      ],
      "text/plain": [
       "                  SMB      HML\n",
       "Symbol Name                   \n",
       "2010-01-04   0.014233 -0.00965\n",
       "2010-01-05   0.017000 -0.01220"
      ]
     },
     "execution_count": 39,
     "metadata": {},
     "output_type": "execute_result"
    }
   ],
   "source": [
    "ret_kr_factor = pd.concat([kr_smb, kr_hml], axis=1) / 100\n",
    "ret_kr_factor.columns = [\"SMB\", \"HML\"]\n",
    "ret_kr_factor.head(2)"
   ]
  },
  {
   "cell_type": "code",
   "execution_count": 46,
   "metadata": {},
   "outputs": [
    {
     "data": {
      "text/html": [
       "<div>\n",
       "<style scoped>\n",
       "    .dataframe tbody tr th:only-of-type {\n",
       "        vertical-align: middle;\n",
       "    }\n",
       "\n",
       "    .dataframe tbody tr th {\n",
       "        vertical-align: top;\n",
       "    }\n",
       "\n",
       "    .dataframe thead th {\n",
       "        text-align: right;\n",
       "    }\n",
       "</style>\n",
       "<table border=\"1\" class=\"dataframe\">\n",
       "  <thead>\n",
       "    <tr style=\"text-align: right;\">\n",
       "      <th></th>\n",
       "      <th>SMB</th>\n",
       "      <th>HML</th>\n",
       "      <th>large</th>\n",
       "      <th>mid</th>\n",
       "      <th>small</th>\n",
       "      <th>kospi</th>\n",
       "      <th>new_kospi</th>\n",
       "      <th>samsung</th>\n",
       "    </tr>\n",
       "  </thead>\n",
       "  <tbody>\n",
       "    <tr>\n",
       "      <th>2010-01-04</th>\n",
       "      <td>0.014233</td>\n",
       "      <td>-0.00965</td>\n",
       "      <td>0.008359</td>\n",
       "      <td>0.003831</td>\n",
       "      <td>0.006816</td>\n",
       "      <td>0.007945</td>\n",
       "      <td>0.006932</td>\n",
       "      <td>0.012516</td>\n",
       "    </tr>\n",
       "    <tr>\n",
       "      <th>2010-01-05</th>\n",
       "      <td>0.017000</td>\n",
       "      <td>-0.01220</td>\n",
       "      <td>-0.003686</td>\n",
       "      <td>-0.004373</td>\n",
       "      <td>0.002633</td>\n",
       "      <td>-0.003254</td>\n",
       "      <td>-0.006144</td>\n",
       "      <td>0.016069</td>\n",
       "    </tr>\n",
       "    <tr>\n",
       "      <th>2010-01-06</th>\n",
       "      <td>-0.004567</td>\n",
       "      <td>-0.00095</td>\n",
       "      <td>0.009240</td>\n",
       "      <td>0.004075</td>\n",
       "      <td>0.005132</td>\n",
       "      <td>0.008695</td>\n",
       "      <td>0.006421</td>\n",
       "      <td>0.023114</td>\n",
       "    </tr>\n",
       "    <tr>\n",
       "      <th>2010-01-07</th>\n",
       "      <td>0.006867</td>\n",
       "      <td>-0.00290</td>\n",
       "      <td>-0.014304</td>\n",
       "      <td>-0.006125</td>\n",
       "      <td>-0.004970</td>\n",
       "      <td>-0.012825</td>\n",
       "      <td>-0.009539</td>\n",
       "      <td>-0.033294</td>\n",
       "    </tr>\n",
       "    <tr>\n",
       "      <th>2010-01-08</th>\n",
       "      <td>-0.002233</td>\n",
       "      <td>-0.00060</td>\n",
       "      <td>0.006410</td>\n",
       "      <td>0.006364</td>\n",
       "      <td>0.004006</td>\n",
       "      <td>0.007015</td>\n",
       "      <td>0.006243</td>\n",
       "      <td>0.009840</td>\n",
       "    </tr>\n",
       "    <tr>\n",
       "      <th>...</th>\n",
       "      <td>...</td>\n",
       "      <td>...</td>\n",
       "      <td>...</td>\n",
       "      <td>...</td>\n",
       "      <td>...</td>\n",
       "      <td>...</td>\n",
       "      <td>...</td>\n",
       "      <td>...</td>\n",
       "    </tr>\n",
       "    <tr>\n",
       "      <th>2017-12-21</th>\n",
       "      <td>-0.002033</td>\n",
       "      <td>0.00695</td>\n",
       "      <td>-0.018329</td>\n",
       "      <td>-0.010281</td>\n",
       "      <td>-0.012679</td>\n",
       "      <td>-0.017206</td>\n",
       "      <td>-0.013141</td>\n",
       "      <td>-0.034198</td>\n",
       "    </tr>\n",
       "    <tr>\n",
       "      <th>2017-12-22</th>\n",
       "      <td>-0.000867</td>\n",
       "      <td>-0.00775</td>\n",
       "      <td>0.003586</td>\n",
       "      <td>0.006940</td>\n",
       "      <td>0.011827</td>\n",
       "      <td>0.004408</td>\n",
       "      <td>0.003291</td>\n",
       "      <td>0.011396</td>\n",
       "    </tr>\n",
       "    <tr>\n",
       "      <th>2017-12-26</th>\n",
       "      <td>-0.000533</td>\n",
       "      <td>0.00855</td>\n",
       "      <td>-0.006686</td>\n",
       "      <td>0.001897</td>\n",
       "      <td>-0.000616</td>\n",
       "      <td>-0.005409</td>\n",
       "      <td>0.000481</td>\n",
       "      <td>-0.030181</td>\n",
       "    </tr>\n",
       "    <tr>\n",
       "      <th>2017-12-27</th>\n",
       "      <td>0.004233</td>\n",
       "      <td>-0.03105</td>\n",
       "      <td>0.003723</td>\n",
       "      <td>0.000723</td>\n",
       "      <td>0.004998</td>\n",
       "      <td>0.003844</td>\n",
       "      <td>-0.000834</td>\n",
       "      <td>0.024066</td>\n",
       "    </tr>\n",
       "    <tr>\n",
       "      <th>2017-12-28</th>\n",
       "      <td>-0.003633</td>\n",
       "      <td>-0.00820</td>\n",
       "      <td>0.013936</td>\n",
       "      <td>0.008659</td>\n",
       "      <td>0.005305</td>\n",
       "      <td>0.012648</td>\n",
       "      <td>0.008432</td>\n",
       "      <td>0.032415</td>\n",
       "    </tr>\n",
       "  </tbody>\n",
       "</table>\n",
       "<p>1976 rows × 8 columns</p>\n",
       "</div>"
      ],
      "text/plain": [
       "                 SMB      HML     large       mid     small     kospi  \\\n",
       "2010-01-04  0.014233 -0.00965  0.008359  0.003831  0.006816  0.007945   \n",
       "2010-01-05  0.017000 -0.01220 -0.003686 -0.004373  0.002633 -0.003254   \n",
       "2010-01-06 -0.004567 -0.00095  0.009240  0.004075  0.005132  0.008695   \n",
       "2010-01-07  0.006867 -0.00290 -0.014304 -0.006125 -0.004970 -0.012825   \n",
       "2010-01-08 -0.002233 -0.00060  0.006410  0.006364  0.004006  0.007015   \n",
       "...              ...      ...       ...       ...       ...       ...   \n",
       "2017-12-21 -0.002033  0.00695 -0.018329 -0.010281 -0.012679 -0.017206   \n",
       "2017-12-22 -0.000867 -0.00775  0.003586  0.006940  0.011827  0.004408   \n",
       "2017-12-26 -0.000533  0.00855 -0.006686  0.001897 -0.000616 -0.005409   \n",
       "2017-12-27  0.004233 -0.03105  0.003723  0.000723  0.004998  0.003844   \n",
       "2017-12-28 -0.003633 -0.00820  0.013936  0.008659  0.005305  0.012648   \n",
       "\n",
       "            new_kospi   samsung  \n",
       "2010-01-04   0.006932  0.012516  \n",
       "2010-01-05  -0.006144  0.016069  \n",
       "2010-01-06   0.006421  0.023114  \n",
       "2010-01-07  -0.009539 -0.033294  \n",
       "2010-01-08   0.006243  0.009840  \n",
       "...               ...       ...  \n",
       "2017-12-21  -0.013141 -0.034198  \n",
       "2017-12-22   0.003291  0.011396  \n",
       "2017-12-26   0.000481 -0.030181  \n",
       "2017-12-27  -0.000834  0.024066  \n",
       "2017-12-28   0.008432  0.032415  \n",
       "\n",
       "[1976 rows x 8 columns]"
      ]
     },
     "execution_count": 46,
     "metadata": {},
     "output_type": "execute_result"
    }
   ],
   "source": [
    "ret_regr = pd.concat([ret_kr_factor, ret_korea, ret_kr_stks['005930']], axis=1)[\"2010\":\"2017\"]\n",
    "ret_regr.columns = ret_regr.columns.tolist()[:-1] + [\"samsung\"]\n",
    "ret_regr"
   ]
  },
  {
   "cell_type": "code",
   "execution_count": 47,
   "metadata": {},
   "outputs": [
    {
     "data": {
      "text/plain": [
       "SMB          0\n",
       "HML          0\n",
       "large        0\n",
       "mid          0\n",
       "small        0\n",
       "kospi        0\n",
       "new_kospi    0\n",
       "samsung      0\n",
       "dtype: int64"
      ]
     },
     "execution_count": 47,
     "metadata": {},
     "output_type": "execute_result"
    }
   ],
   "source": [
    "ret_regr.isnull().sum()"
   ]
  },
  {
   "cell_type": "markdown",
   "metadata": {},
   "source": [
    "### y ~ x1 + x2 + ... + xn"
   ]
  },
  {
   "cell_type": "code",
   "execution_count": 49,
   "metadata": {},
   "outputs": [
    {
     "name": "stdout",
     "output_type": "stream",
     "text": [
      "                            OLS Regression Results                            \n",
      "==============================================================================\n",
      "Dep. Variable:                  large   R-squared:                       0.990\n",
      "Model:                            OLS   Adj. R-squared:                  0.989\n",
      "Method:                 Least Squares   F-statistic:                 6.200e+04\n",
      "Date:                Tue, 20 Apr 2021   Prob (F-statistic):               0.00\n",
      "Time:                        21:15:21   Log-Likelihood:                 10794.\n",
      "No. Observations:                1976   AIC:                        -2.158e+04\n",
      "Df Residuals:                    1973   BIC:                        -2.156e+04\n",
      "Df Model:                           3                                         \n",
      "Covariance Type:            nonrobust                                         \n",
      "==============================================================================\n",
      "                 coef    std err          t      P>|t|      [0.025      0.975]\n",
      "------------------------------------------------------------------------------\n",
      "kospi          1.0293      0.003    390.153      0.000       1.024       1.035\n",
      "SMB           -0.1061      0.003    -31.300      0.000      -0.113      -0.099\n",
      "HML            0.0306      0.004      7.235      0.000       0.022       0.039\n",
      "==============================================================================\n",
      "Omnibus:                      210.295   Durbin-Watson:                   1.810\n",
      "Prob(Omnibus):                  0.000   Jarque-Bera (JB):             1165.837\n",
      "Skew:                           0.335   Prob(JB):                    6.95e-254\n",
      "Kurtosis:                       6.703   Cond. No.                         1.99\n",
      "==============================================================================\n",
      "\n",
      "Warnings:\n",
      "[1] Standard Errors assume that the covariance matrix of the errors is correctly specified.\n"
     ]
    }
   ],
   "source": [
    "select_y = 'large'                     # 종속변수선택\n",
    "select_xs = ['kospi', 'SMB', 'HML']    # 설명변수선택\n",
    "\n",
    "y = ret_regr[select_y]\n",
    "x = ret_regr[select_xs]\n",
    "model = sm.OLS(y, x)\n",
    "res = model.fit()\n",
    "print(res.summary())"
   ]
  },
  {
   "cell_type": "markdown",
   "metadata": {},
   "source": [
    "# US MARKET"
   ]
  },
  {
   "cell_type": "code",
   "execution_count": 50,
   "metadata": {},
   "outputs": [
    {
     "data": {
      "text/html": [
       "<div>\n",
       "<style scoped>\n",
       "    .dataframe tbody tr th:only-of-type {\n",
       "        vertical-align: middle;\n",
       "    }\n",
       "\n",
       "    .dataframe tbody tr th {\n",
       "        vertical-align: top;\n",
       "    }\n",
       "\n",
       "    .dataframe thead th {\n",
       "        text-align: right;\n",
       "    }\n",
       "</style>\n",
       "<table border=\"1\" class=\"dataframe\">\n",
       "  <thead>\n",
       "    <tr style=\"text-align: right;\">\n",
       "      <th></th>\n",
       "      <th>SP500</th>\n",
       "      <th>SP400</th>\n",
       "      <th>SP600</th>\n",
       "      <th>SP1500</th>\n",
       "      <th>NewSP1500</th>\n",
       "      <th>AAPL</th>\n",
       "      <th>SMB</th>\n",
       "      <th>HML</th>\n",
       "    </tr>\n",
       "    <tr>\n",
       "      <th>date</th>\n",
       "      <th></th>\n",
       "      <th></th>\n",
       "      <th></th>\n",
       "      <th></th>\n",
       "      <th></th>\n",
       "      <th></th>\n",
       "      <th></th>\n",
       "      <th></th>\n",
       "    </tr>\n",
       "  </thead>\n",
       "  <tbody>\n",
       "    <tr>\n",
       "      <th>2010-01-05</th>\n",
       "      <td>0.003122</td>\n",
       "      <td>0.002660</td>\n",
       "      <td>-0.003438</td>\n",
       "      <td>0.002850</td>\n",
       "      <td>0.002863</td>\n",
       "      <td>0.001963</td>\n",
       "      <td>-0.0059</td>\n",
       "      <td>0.0122</td>\n",
       "    </tr>\n",
       "    <tr>\n",
       "      <th>2010-01-06</th>\n",
       "      <td>0.000541</td>\n",
       "      <td>0.005274</td>\n",
       "      <td>-0.000954</td>\n",
       "      <td>0.000867</td>\n",
       "      <td>0.001100</td>\n",
       "      <td>-0.015997</td>\n",
       "      <td>-0.0025</td>\n",
       "      <td>0.0052</td>\n",
       "    </tr>\n",
       "  </tbody>\n",
       "</table>\n",
       "</div>"
      ],
      "text/plain": [
       "               SP500     SP400     SP600    SP1500  NewSP1500      AAPL  \\\n",
       "date                                                                      \n",
       "2010-01-05  0.003122  0.002660 -0.003438  0.002850   0.002863  0.001963   \n",
       "2010-01-06  0.000541  0.005274 -0.000954  0.000867   0.001100 -0.015997   \n",
       "\n",
       "               SMB     HML  \n",
       "date                        \n",
       "2010-01-05 -0.0059  0.0122  \n",
       "2010-01-06 -0.0025  0.0052  "
      ]
     },
     "execution_count": 50,
     "metadata": {},
     "output_type": "execute_result"
    }
   ],
   "source": [
    "us_data = pd.read_csv(\"data/미국회귀분석데이터.csv\", index_col=0, parse_dates=True)\n",
    "us_data.head(2)"
   ]
  },
  {
   "cell_type": "code",
   "execution_count": 53,
   "metadata": {},
   "outputs": [
    {
     "name": "stdout",
     "output_type": "stream",
     "text": [
      "                            OLS Regression Results                            \n",
      "==============================================================================\n",
      "Dep. Variable:                  SP500   R-squared:                       0.998\n",
      "Model:                            OLS   Adj. R-squared:                  0.998\n",
      "Method:                 Least Squares   F-statistic:                 2.937e+05\n",
      "Date:                Tue, 20 Apr 2021   Prob (F-statistic):               0.00\n",
      "Time:                        21:39:25   Log-Likelihood:                 12670.\n",
      "No. Observations:                2011   AIC:                        -2.533e+04\n",
      "Df Residuals:                    2008   BIC:                        -2.532e+04\n",
      "Df Model:                           3                                         \n",
      "Covariance Type:            nonrobust                                         \n",
      "==============================================================================\n",
      "                 coef    std err          t      P>|t|      [0.025      0.975]\n",
      "------------------------------------------------------------------------------\n",
      "NewSP1500      0.9986      0.001    864.368      0.000       0.996       1.001\n",
      "SMB           -0.0802      0.002    -39.225      0.000      -0.084      -0.076\n",
      "HML           -0.0336      0.002    -15.665      0.000      -0.038      -0.029\n",
      "==============================================================================\n",
      "Omnibus:                      201.945   Durbin-Watson:                   2.033\n",
      "Prob(Omnibus):                  0.000   Jarque-Bera (JB):             1544.529\n",
      "Skew:                          -0.001   Prob(JB):                         0.00\n",
      "Kurtosis:                       7.293   Cond. No.                         2.27\n",
      "==============================================================================\n",
      "\n",
      "Warnings:\n",
      "[1] Standard Errors assume that the covariance matrix of the errors is correctly specified.\n"
     ]
    }
   ],
   "source": [
    "select_y = 'SP500'                     # 종속변수선택\n",
    "select_xs = ['NewSP1500', 'SMB', 'HML']    # 설명변수선택\n",
    "\n",
    "y = us_data[select_y]\n",
    "x = us_data[select_xs]\n",
    "model = sm.OLS(y, x)\n",
    "res = model.fit()\n",
    "print(res.summary())"
   ]
  },
  {
   "cell_type": "code",
   "execution_count": null,
   "metadata": {},
   "outputs": [],
   "source": []
  }
 ],
 "metadata": {
  "kernelspec": {
   "display_name": "Python 3",
   "language": "python",
   "name": "python3"
  },
  "language_info": {
   "codemirror_mode": {
    "name": "ipython",
    "version": 3
   },
   "file_extension": ".py",
   "mimetype": "text/x-python",
   "name": "python",
   "nbconvert_exporter": "python",
   "pygments_lexer": "ipython3",
   "version": "3.6.5"
  }
 },
 "nbformat": 4,
 "nbformat_minor": 2
}
