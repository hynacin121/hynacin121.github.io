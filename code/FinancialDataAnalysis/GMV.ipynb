{
 "cells": [
  {
   "cell_type": "code",
   "execution_count": 35,
   "metadata": {},
   "outputs": [],
   "source": [
    "import numpy as np\n",
    "import pandas as pd\n",
    "import matplotlib.pyplot as plt\n",
    "from scipy.optimize import minimize\n",
    "%matplotlib inline\n",
    "\n",
    "try:\n",
    "    import pandas_datareader.data as web\n",
    "    import cvxpy as cp\n",
    "except:\n",
    "    %pip install pip pandas-datareader\n",
    "    %pip install pip cvxpy\n",
    "    import pandas_datareader.data as web\n",
    "    import cvxpy as cp\n",
    "  "
   ]
  },
  {
   "cell_type": "code",
   "execution_count": 36,
   "metadata": {},
   "outputs": [],
   "source": [
    "def Asset(ticker , start, end):\n",
    "    return(web.get_data_yahoo(ticker, start, end)['Adj Close'])"
   ]
  },
  {
   "cell_type": "code",
   "execution_count": 37,
   "metadata": {},
   "outputs": [],
   "source": [
    "data = Asset(['AAPL','GOOGL', 'MSFT', 'AMZN'], '2011-01-01', '2021-12-31')\n",
    "ret = data.pct_change().dropna()\n",
    "\n",
    "mu = ret.mean() *12 \n",
    "mu = pd.DataFrame(mu)\n",
    "sigma = ret.cov() *12\n",
    "\n",
    "asset_num = ret.shape[1]\n"
   ]
  },
  {
   "cell_type": "code",
   "execution_count": 38,
   "metadata": {},
   "outputs": [],
   "source": [
    "def get_pfo_var(weights):\n",
    "    return np.dot(weights.T, np.dot(sigma, weights))\n",
    "\n",
    "#x0 = np.ones(asset_num)/asset_num\n",
    "x0 = [1/5, 1/5, 1/5, 2/5]\n",
    "constraints = ({\"type\": \"eq\", \"fun\": lambda x: np.sum(x)-1})"
   ]
  },
  {
   "cell_type": "code",
   "execution_count": 39,
   "metadata": {},
   "outputs": [
    {
     "data": {
      "text/plain": [
       "array([0.28198726, 0.28771429, 0.31396789, 0.11633056])"
      ]
     },
     "execution_count": 39,
     "metadata": {},
     "output_type": "execute_result"
    }
   ],
   "source": [
    "gmv = minimize(get_pfo_var, x0, method = 'SLSQP', constraints = constraints,\n",
    "               bounds=((0,1),)*asset_num)\n",
    "\n",
    "gmv.x"
   ]
  },
  {
   "cell_type": "markdown",
   "metadata": {},
   "source": [
    "GMV by Cvxpy"
   ]
  },
  {
   "cell_type": "code",
   "execution_count": 41,
   "metadata": {},
   "outputs": [
    {
     "data": {
      "text/plain": [
       "array([0.23460095, 0.32090512, 0.33400755, 0.11048639])"
      ]
     },
     "execution_count": 41,
     "metadata": {},
     "output_type": "execute_result"
    }
   ],
   "source": [
    "gmv2 = cp.Variable(asset_num)\n",
    "objective = cp.Minimize(cp.quad_form(gmv2, sigma))\n",
    "constraints = [cp.sum(gmv2)==1]\n",
    "problem = cp.Problem(objective, constraints)\n",
    "problem.solve(solver=cp.ECOS)\n",
    "\n",
    "gmv2.value"
   ]
  },
  {
   "cell_type": "markdown",
   "metadata": {},
   "source": [
    "Efficient Portfolio"
   ]
  },
  {
   "cell_type": "code",
   "execution_count": 42,
   "metadata": {},
   "outputs": [],
   "source": [
    "ret_gmv = mu.transpose().dot(gmv2.value)\n",
    "ret_target = np.round(ret_gmv,3) +0.002\n",
    "\n",
    "mu = pd.DataFrame(mu)"
   ]
  },
  {
   "cell_type": "code",
   "execution_count": 44,
   "metadata": {},
   "outputs": [],
   "source": [
    "w = cp.Variable(asset_num)\n",
    "objective = cp.Minimize(cp.quad_form(w, sigma))\n",
    "constraints = [cp.sum(w)==1, w>=0, w@mu >=ret_target]\n",
    "problem = cp.Problem(objective, constraints)\n",
    "problem.solve(solver=cp.ECOS)\n",
    "\n",
    "w.value\n"
   ]
  },
  {
   "cell_type": "code",
   "execution_count": 9,
   "metadata": {},
   "outputs": [
    {
     "data": {
      "text/plain": [
       "0    0.015\n",
       "dtype: float64"
      ]
     },
     "execution_count": 9,
     "metadata": {},
     "output_type": "execute_result"
    }
   ],
   "source": [
    "mu.transpose().dot(w.value)"
   ]
  },
  {
   "cell_type": "markdown",
   "metadata": {},
   "source": [
    "Efficient Frontier"
   ]
  },
  {
   "cell_type": "code",
   "execution_count": 48,
   "metadata": {},
   "outputs": [
    {
     "data": {
      "text/plain": [
       "[0.048068236552620366,\n",
       " 0.048076228215600425,\n",
       " 0.04810019709756236,\n",
       " 0.0481401155355049,\n",
       " 0.048195946496446936,\n",
       " 0.048267635110485776,\n",
       " 0.04835511009800642,\n",
       " 0.04845828563996907,\n",
       " 0.048577062216397925,\n",
       " 0.0487113261422635,\n",
       " 0.048860948892466956,\n",
       " 0.04902579015970455,\n",
       " 0.04920569654412019,\n",
       " 0.049400503966431,\n",
       " 0.04961003641536271,\n",
       " 0.049834108620928734,\n",
       " 0.05007252655011479,\n",
       " 0.05033090319866819,\n",
       " 0.05066314300003134,\n",
       " 0.05108100544120237,\n",
       " 0.051582409918223715,\n",
       " 0.052164947478895454,\n",
       " 0.05282593436680881,\n",
       " 0.05356246444957306,\n",
       " 0.05437147136338023,\n",
       " 0.055274727679069824,\n",
       " 0.05697210535319212,\n",
       " 0.05970403201385877,\n",
       " 0.0633367780527693,\n",
       " 0.0677255392818476]"
      ]
     },
     "execution_count": 48,
     "metadata": {},
     "output_type": "execute_result"
    }
   ],
   "source": [
    "trets = np.linspace(ret_gmv, mu.max(), 30)\n",
    "tvols = []\n",
    "for tret in trets:\n",
    "    w = cp.Variable(asset_num)\n",
    "    objective = cp.Minimize(cp.quad_form(w, sigma))\n",
    "    constraints = [cp.sum(w)==1, w>=0, w@mu >= tret]\n",
    "    problem = cp.Problem(objective, constraints)\n",
    "    problem.solve(solver=cp.ECOS)\n",
    "    tvols.append(np.sqrt(np.dot(w.value.T, np.dot(sigma, w.value))))\n",
    "\n",
    "\n",
    "tvols"
   ]
  },
  {
   "cell_type": "code",
   "execution_count": 50,
   "metadata": {},
   "outputs": [
    {
     "data": {
      "image/png": "[encoded data removed]",
      "text/plain": [
       "<Figure size 720x504 with 1 Axes>"
      ]
     },
     "metadata": {
      "needs_background": "light"
     },
     "output_type": "display_data"
    }
   ],
   "source": [
    "plt.figure(figsize = (10,7))\n",
    "plt.plot(tvols, trets, '-ok')\n",
    "plt.xlabel(\"Risk\")\n",
    "plt.ylabel(\"Expected Return\")\n",
    "plt.show()"
   ]
  },
  {
   "cell_type": "markdown",
   "metadata": {},
   "source": [
    "Lasso Regularization"
   ]
  },
  {
   "cell_type": "code",
   "execution_count": 60,
   "metadata": {},
   "outputs": [],
   "source": [
    "lams = np.linspace(0, 0.01, 100)\n",
    "w_s = []\n",
    "\n",
    "for lam in lams:\n",
    "    w = cp.Variable(asset_num)\n",
    "    objective = cp.Minimize(cp.quad_form(w, sigma)+ lam*cp.norm(w, 1))\n",
    "    constraints = [cp.sum(w)==1]\n",
    "    problem = cp.Problem(objective, constraints)\n",
    "    problem.solve(solver=cp.ECOS)\n",
    "    w_s.append(w.value)\n",
    "\n"
   ]
  },
  {
   "cell_type": "code",
   "execution_count": 54,
   "metadata": {},
   "outputs": [
    {
     "data": {
      "image/png": "[encoded data removed]",
      "text/plain": [
       "<Figure size 720x504 with 1 Axes>"
      ]
     },
     "metadata": {
      "needs_background": "light"
     },
     "output_type": "display_data"
    }
   ],
   "source": [
    "plt.figure(figsize = (10, 7))\n",
    "plt.plot(w_s)\n",
    "plt.show()"
   ]
  }
 ],
 "metadata": {
  "interpreter": {
   "hash": "1607018b1a823a6a5b75e6ec7aaa9f9a407a828d03baff1f1154438ca22a9034"
  },
  "kernelspec": {
   "display_name": "Python 3.8.5 ('base')",
   "language": "python",
   "name": "python3"
  },
  "language_info": {
   "codemirror_mode": {
    "name": "ipython",
    "version": 3
   },
   "file_extension": ".py",
   "mimetype": "text/x-python",
   "name": "python",
   "nbconvert_exporter": "python",
   "pygments_lexer": "ipython3",
   "version": "3.8.5"
  },
  "orig_nbformat": 4
 },
 "nbformat": 4,
 "nbformat_minor": 2
}
