{
 "cells": [
  {
   "cell_type": "code",
   "execution_count": 6,
   "metadata": {},
   "outputs": [],
   "source": [
    "import numpy as np\n",
    "from sklearn.decomposition import PCA\n",
    "import pandas as pd"
   ]
  },
  {
   "cell_type": "markdown",
   "metadata": {},
   "source": [
    "+ Using Scikit"
   ]
  },
  {
   "cell_type": "code",
   "execution_count": 17,
   "metadata": {},
   "outputs": [
    {
     "name": "stdout",
     "output_type": "stream",
     "text": [
      "[0.99157153 0.00842847]\n"
     ]
    }
   ],
   "source": [
    "X = np.array([[-1, -1], [-2, -2], [-3, -2], [1, 1], [2, 1], [3, 2]])\n",
    "pca = PCA(n_components = 2)\n",
    "pca.fit(X)\n",
    "print(pca.explained_variance_ratio_)\n"
   ]
  },
  {
   "cell_type": "markdown",
   "metadata": {},
   "source": [
    "+ Using Covariance "
   ]
  },
  {
   "cell_type": "code",
   "execution_count": 24,
   "metadata": {},
   "outputs": [],
   "source": [
    "df = pd.DataFrame(X)\n",
    "\n",
    "covariance = df.cov()\n",
    "eigenvalue = np.linalg.eigvals(covariance)\n",
    "\n",
    "pc1 = np.linalg.eigvals(df.cov())[0]/sum(np.linalg.eigvals(df.cov()))\n",
    "pc2 = np.linalg.eigvals(df.cov())[1]/sum(np.linalg.eigvals(df.cov()))"
   ]
  }
 ],
 "metadata": {
  "interpreter": {
   "hash": "1607018b1a823a6a5b75e6ec7aaa9f9a407a828d03baff1f1154438ca22a9034"
  },
  "kernelspec": {
   "display_name": "Python 3.8.5 ('base')",
   "language": "python",
   "name": "python3"
  },
  "language_info": {
   "codemirror_mode": {
    "name": "ipython",
    "version": 3
   },
   "file_extension": ".py",
   "mimetype": "text/x-python",
   "name": "python",
   "nbconvert_exporter": "python",
   "pygments_lexer": "ipython3",
   "version": "3.8.5"
  },
  "orig_nbformat": 4
 },
 "nbformat": 4,
 "nbformat_minor": 2
}
