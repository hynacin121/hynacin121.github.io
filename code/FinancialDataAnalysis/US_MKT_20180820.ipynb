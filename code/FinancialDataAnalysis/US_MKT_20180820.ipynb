{
 "cells": [
  {
   "cell_type": "code",
   "execution_count": 1,
   "metadata": {},
   "outputs": [],
   "source": [
    "import pandas as pd\n",
    "import numpy as np\n",
    "import matplotlib.pyplot as plt\n",
    "import FinanceDataReader as fdr\n",
    "from datetime import datetime\n",
    "import seaborn as sns\n",
    "import statsmodels.api as sm\n",
    "\n",
    "%matplotlib inline"
   ]
  },
  {
   "cell_type": "markdown",
   "metadata": {},
   "source": [
    "* US SP MTK CAP DATA RESOURCE : Joe Abbott (yardeni researcher)\n",
    "https://www.yardeni.com/\n",
    "* 단위 : Billion"
   ]
  },
  {
   "cell_type": "code",
   "execution_count": 4,
   "metadata": {},
   "outputs": [],
   "source": [
    "path = '/Users/taehyeonkang/pythonfiles/data/삼성전자회귀분석(2010-2017)'"
   ]
  },
  {
   "cell_type": "code",
   "execution_count": 5,
   "metadata": {},
   "outputs": [],
   "source": [
    "cap_df = pd.read_excel(path+'/JA20180819_DailySPMarketCaps-BrianKang.xlsx', sheet_name='Sheet1')"
   ]
  },
  {
   "cell_type": "code",
   "execution_count": 8,
   "metadata": {},
   "outputs": [
    {
     "data": {
      "text/html": [
       "<div>\n",
       "<style scoped>\n",
       "    .dataframe tbody tr th:only-of-type {\n",
       "        vertical-align: middle;\n",
       "    }\n",
       "\n",
       "    .dataframe tbody tr th {\n",
       "        vertical-align: top;\n",
       "    }\n",
       "\n",
       "    .dataframe thead th {\n",
       "        text-align: right;\n",
       "    }\n",
       "</style>\n",
       "<table border=\"1\" class=\"dataframe\">\n",
       "  <thead>\n",
       "    <tr style=\"text-align: right;\">\n",
       "      <th></th>\n",
       "      <th>Market Cap (billion US$)</th>\n",
       "      <th>S&amp;P 1500</th>\n",
       "      <th>S&amp;P 500</th>\n",
       "      <th>S&amp;P 400</th>\n",
       "      <th>S&amp;P 600</th>\n",
       "    </tr>\n",
       "  </thead>\n",
       "  <tbody>\n",
       "    <tr>\n",
       "      <th>0</th>\n",
       "      <td>Dec 30 1994</td>\n",
       "      <td>3987.98</td>\n",
       "      <td>3346.12</td>\n",
       "      <td>462.34</td>\n",
       "      <td>179.52</td>\n",
       "    </tr>\n",
       "    <tr>\n",
       "      <th>1</th>\n",
       "      <td>Jan 02 1995</td>\n",
       "      <td>---</td>\n",
       "      <td>---</td>\n",
       "      <td>---</td>\n",
       "      <td>---</td>\n",
       "    </tr>\n",
       "  </tbody>\n",
       "</table>\n",
       "</div>"
      ],
      "text/plain": [
       "  Market Cap (billion US$) S&P 1500  S&P 500 S&P 400 S&P 600\n",
       "0              Dec 30 1994  3987.98  3346.12  462.34  179.52\n",
       "1              Jan 02 1995      ---      ---     ---     ---"
      ]
     },
     "execution_count": 8,
     "metadata": {},
     "output_type": "execute_result"
    }
   ],
   "source": [
    "cap_df.head(2)"
   ]
  },
  {
   "cell_type": "code",
   "execution_count": 6,
   "metadata": {},
   "outputs": [
    {
     "name": "stdout",
     "output_type": "stream",
     "text": [
      "<class 'pandas.core.frame.DataFrame'>\n",
      "RangeIndex: 6166 entries, 0 to 6165\n",
      "Data columns (total 5 columns):\n",
      "Market Cap (billion US$)    6166 non-null object\n",
      "S&P 1500                    6166 non-null object\n",
      "S&P 500                     6166 non-null object\n",
      "S&P 400                     6166 non-null object\n",
      "S&P 600                     6166 non-null object\n",
      "dtypes: object(5)\n",
      "memory usage: 241.0+ KB\n"
     ]
    }
   ],
   "source": [
    "cap_df.info()"
   ]
  },
  {
   "cell_type": "code",
   "execution_count": 9,
   "metadata": {},
   "outputs": [
    {
     "data": {
      "text/html": [
       "<div>\n",
       "<style scoped>\n",
       "    .dataframe tbody tr th:only-of-type {\n",
       "        vertical-align: middle;\n",
       "    }\n",
       "\n",
       "    .dataframe tbody tr th {\n",
       "        vertical-align: top;\n",
       "    }\n",
       "\n",
       "    .dataframe thead th {\n",
       "        text-align: right;\n",
       "    }\n",
       "</style>\n",
       "<table border=\"1\" class=\"dataframe\">\n",
       "  <thead>\n",
       "    <tr style=\"text-align: right;\">\n",
       "      <th></th>\n",
       "      <th>Market Cap (billion US$)</th>\n",
       "      <th>S&amp;P 1500</th>\n",
       "      <th>S&amp;P 500</th>\n",
       "      <th>S&amp;P 400</th>\n",
       "      <th>S&amp;P 600</th>\n",
       "    </tr>\n",
       "  </thead>\n",
       "  <tbody>\n",
       "    <tr>\n",
       "      <th>0</th>\n",
       "      <td>Dec 30 1994</td>\n",
       "      <td>3987.98</td>\n",
       "      <td>3346.12</td>\n",
       "      <td>462.34</td>\n",
       "      <td>179.52</td>\n",
       "    </tr>\n",
       "    <tr>\n",
       "      <th>1</th>\n",
       "      <td>Jan 02 1995</td>\n",
       "      <td>---</td>\n",
       "      <td>---</td>\n",
       "      <td>---</td>\n",
       "      <td>---</td>\n",
       "    </tr>\n",
       "    <tr>\n",
       "      <th>2</th>\n",
       "      <td>Jan 03 1995</td>\n",
       "      <td>3981.99</td>\n",
       "      <td>3345.01</td>\n",
       "      <td>459.92</td>\n",
       "      <td>177.06</td>\n",
       "    </tr>\n",
       "    <tr>\n",
       "      <th>3</th>\n",
       "      <td>Jan 04 1995</td>\n",
       "      <td>3995.66</td>\n",
       "      <td>3356.64</td>\n",
       "      <td>461.75</td>\n",
       "      <td>177.27</td>\n",
       "    </tr>\n",
       "    <tr>\n",
       "      <th>4</th>\n",
       "      <td>Jan 05 1995</td>\n",
       "      <td>3992.05</td>\n",
       "      <td>3353.93</td>\n",
       "      <td>460.84</td>\n",
       "      <td>177.28</td>\n",
       "    </tr>\n",
       "  </tbody>\n",
       "</table>\n",
       "</div>"
      ],
      "text/plain": [
       "  Market Cap (billion US$) S&P 1500  S&P 500 S&P 400 S&P 600\n",
       "0              Dec 30 1994  3987.98  3346.12  462.34  179.52\n",
       "1              Jan 02 1995      ---      ---     ---     ---\n",
       "2              Jan 03 1995  3981.99  3345.01  459.92  177.06\n",
       "3              Jan 04 1995  3995.66  3356.64  461.75  177.27\n",
       "4              Jan 05 1995  3992.05  3353.93  460.84  177.28"
      ]
     },
     "execution_count": 9,
     "metadata": {},
     "output_type": "execute_result"
    }
   ],
   "source": [
    "cap_df.head()"
   ]
  },
  {
   "cell_type": "code",
   "execution_count": 16,
   "metadata": {},
   "outputs": [],
   "source": [
    "df_col = cap_df.columns.values\n",
    "df_col[0] = 'date'\n",
    "cap_df.columns = df_col\n",
    "cap_df = cap_df.set_index('date')"
   ]
  },
  {
   "cell_type": "code",
   "execution_count": 17,
   "metadata": {},
   "outputs": [],
   "source": [
    "cap_df.index = pd.to_datetime(cap_df.index)"
   ]
  },
  {
   "cell_type": "code",
   "execution_count": 18,
   "metadata": {},
   "outputs": [
    {
     "data": {
      "text/html": [
       "<div>\n",
       "<style scoped>\n",
       "    .dataframe tbody tr th:only-of-type {\n",
       "        vertical-align: middle;\n",
       "    }\n",
       "\n",
       "    .dataframe tbody tr th {\n",
       "        vertical-align: top;\n",
       "    }\n",
       "\n",
       "    .dataframe thead th {\n",
       "        text-align: right;\n",
       "    }\n",
       "</style>\n",
       "<table border=\"1\" class=\"dataframe\">\n",
       "  <thead>\n",
       "    <tr style=\"text-align: right;\">\n",
       "      <th></th>\n",
       "      <th>S&amp;P 1500</th>\n",
       "      <th>S&amp;P 500</th>\n",
       "      <th>S&amp;P 400</th>\n",
       "      <th>S&amp;P 600</th>\n",
       "    </tr>\n",
       "    <tr>\n",
       "      <th>date</th>\n",
       "      <th></th>\n",
       "      <th></th>\n",
       "      <th></th>\n",
       "      <th></th>\n",
       "    </tr>\n",
       "  </thead>\n",
       "  <tbody>\n",
       "    <tr>\n",
       "      <th>1994-12-30</th>\n",
       "      <td>3987.98</td>\n",
       "      <td>3346.12</td>\n",
       "      <td>462.34</td>\n",
       "      <td>179.52</td>\n",
       "    </tr>\n",
       "    <tr>\n",
       "      <th>1995-01-02</th>\n",
       "      <td>---</td>\n",
       "      <td>---</td>\n",
       "      <td>---</td>\n",
       "      <td>---</td>\n",
       "    </tr>\n",
       "    <tr>\n",
       "      <th>1995-01-03</th>\n",
       "      <td>3981.99</td>\n",
       "      <td>3345.01</td>\n",
       "      <td>459.92</td>\n",
       "      <td>177.06</td>\n",
       "    </tr>\n",
       "    <tr>\n",
       "      <th>1995-01-04</th>\n",
       "      <td>3995.66</td>\n",
       "      <td>3356.64</td>\n",
       "      <td>461.75</td>\n",
       "      <td>177.27</td>\n",
       "    </tr>\n",
       "    <tr>\n",
       "      <th>1995-01-05</th>\n",
       "      <td>3992.05</td>\n",
       "      <td>3353.93</td>\n",
       "      <td>460.84</td>\n",
       "      <td>177.28</td>\n",
       "    </tr>\n",
       "  </tbody>\n",
       "</table>\n",
       "</div>"
      ],
      "text/plain": [
       "           S&P 1500  S&P 500 S&P 400 S&P 600\n",
       "date                                        \n",
       "1994-12-30  3987.98  3346.12  462.34  179.52\n",
       "1995-01-02      ---      ---     ---     ---\n",
       "1995-01-03  3981.99  3345.01  459.92  177.06\n",
       "1995-01-04  3995.66  3356.64  461.75  177.27\n",
       "1995-01-05  3992.05  3353.93  460.84  177.28"
      ]
     },
     "execution_count": 18,
     "metadata": {},
     "output_type": "execute_result"
    }
   ],
   "source": [
    "cap_df.head()"
   ]
  },
  {
   "cell_type": "code",
   "execution_count": 19,
   "metadata": {},
   "outputs": [
    {
     "data": {
      "text/plain": [
       "['S&P 1500', 'S&P 500', 'S&P 400', 'S&P 600']"
      ]
     },
     "execution_count": 19,
     "metadata": {},
     "output_type": "execute_result"
    }
   ],
   "source": [
    "cap_df.columns.tolist()"
   ]
  },
  {
   "cell_type": "code",
   "execution_count": 20,
   "metadata": {},
   "outputs": [],
   "source": [
    "cap_df = cap_df.apply(pd.to_numeric, errors = 'coerce')"
   ]
  },
  {
   "cell_type": "code",
   "execution_count": 21,
   "metadata": {},
   "outputs": [
    {
     "data": {
      "text/plain": [
       "2086"
      ]
     },
     "execution_count": 21,
     "metadata": {},
     "output_type": "execute_result"
    }
   ],
   "source": [
    "len(cap_df['2010':'2017'])"
   ]
  },
  {
   "cell_type": "code",
   "execution_count": 22,
   "metadata": {},
   "outputs": [
    {
     "data": {
      "text/plain": [
       "2012"
      ]
     },
     "execution_count": 22,
     "metadata": {},
     "output_type": "execute_result"
    }
   ],
   "source": [
    "len(cap_df['2010':'2017'].dropna())"
   ]
  },
  {
   "cell_type": "code",
   "execution_count": 23,
   "metadata": {},
   "outputs": [],
   "source": [
    "spINX = cap_df['2010':'2017'].dropna().copy()"
   ]
  },
  {
   "cell_type": "code",
   "execution_count": 24,
   "metadata": {},
   "outputs": [
    {
     "name": "stdout",
     "output_type": "stream",
     "text": [
      "<class 'pandas.core.frame.DataFrame'>\n",
      "DatetimeIndex: 2012 entries, 2010-01-04 to 2017-12-29\n",
      "Data columns (total 4 columns):\n",
      "S&P 1500    2012 non-null float64\n",
      "S&P 500     2012 non-null float64\n",
      "S&P 400     2012 non-null float64\n",
      "S&P 600     2012 non-null float64\n",
      "dtypes: float64(4)\n",
      "memory usage: 78.6 KB\n"
     ]
    }
   ],
   "source": [
    "spINX.info()"
   ]
  },
  {
   "cell_type": "code",
   "execution_count": 25,
   "metadata": {},
   "outputs": [
    {
     "data": {
      "text/html": [
       "<div>\n",
       "<style scoped>\n",
       "    .dataframe tbody tr th:only-of-type {\n",
       "        vertical-align: middle;\n",
       "    }\n",
       "\n",
       "    .dataframe tbody tr th {\n",
       "        vertical-align: top;\n",
       "    }\n",
       "\n",
       "    .dataframe thead th {\n",
       "        text-align: right;\n",
       "    }\n",
       "</style>\n",
       "<table border=\"1\" class=\"dataframe\">\n",
       "  <thead>\n",
       "    <tr style=\"text-align: right;\">\n",
       "      <th></th>\n",
       "      <th>S&amp;P 1500</th>\n",
       "      <th>S&amp;P 500</th>\n",
       "      <th>S&amp;P 400</th>\n",
       "      <th>S&amp;P 600</th>\n",
       "    </tr>\n",
       "    <tr>\n",
       "      <th>date</th>\n",
       "      <th></th>\n",
       "      <th></th>\n",
       "      <th></th>\n",
       "      <th></th>\n",
       "    </tr>\n",
       "  </thead>\n",
       "  <tbody>\n",
       "    <tr>\n",
       "      <th>2010-01-04</th>\n",
       "      <td>11416.01</td>\n",
       "      <td>10088.69</td>\n",
       "      <td>917.16</td>\n",
       "      <td>410.16</td>\n",
       "    </tr>\n",
       "    <tr>\n",
       "      <th>2010-01-05</th>\n",
       "      <td>11448.55</td>\n",
       "      <td>10120.19</td>\n",
       "      <td>919.60</td>\n",
       "      <td>408.75</td>\n",
       "    </tr>\n",
       "    <tr>\n",
       "      <th>2010-01-06</th>\n",
       "      <td>11458.48</td>\n",
       "      <td>10125.66</td>\n",
       "      <td>924.45</td>\n",
       "      <td>408.36</td>\n",
       "    </tr>\n",
       "    <tr>\n",
       "      <th>2010-01-07</th>\n",
       "      <td>11506.43</td>\n",
       "      <td>10166.24</td>\n",
       "      <td>929.12</td>\n",
       "      <td>411.06</td>\n",
       "    </tr>\n",
       "    <tr>\n",
       "      <th>2010-01-08</th>\n",
       "      <td>11542.36</td>\n",
       "      <td>10195.52</td>\n",
       "      <td>934.47</td>\n",
       "      <td>412.37</td>\n",
       "    </tr>\n",
       "  </tbody>\n",
       "</table>\n",
       "</div>"
      ],
      "text/plain": [
       "            S&P 1500   S&P 500  S&P 400  S&P 600\n",
       "date                                            \n",
       "2010-01-04  11416.01  10088.69   917.16   410.16\n",
       "2010-01-05  11448.55  10120.19   919.60   408.75\n",
       "2010-01-06  11458.48  10125.66   924.45   408.36\n",
       "2010-01-07  11506.43  10166.24   929.12   411.06\n",
       "2010-01-08  11542.36  10195.52   934.47   412.37"
      ]
     },
     "execution_count": 25,
     "metadata": {},
     "output_type": "execute_result"
    }
   ],
   "source": [
    "spINX.head()"
   ]
  },
  {
   "cell_type": "code",
   "execution_count": 26,
   "metadata": {},
   "outputs": [
    {
     "data": {
      "text/html": [
       "<div>\n",
       "<style scoped>\n",
       "    .dataframe tbody tr th:only-of-type {\n",
       "        vertical-align: middle;\n",
       "    }\n",
       "\n",
       "    .dataframe tbody tr th {\n",
       "        vertical-align: top;\n",
       "    }\n",
       "\n",
       "    .dataframe thead th {\n",
       "        text-align: right;\n",
       "    }\n",
       "</style>\n",
       "<table border=\"1\" class=\"dataframe\">\n",
       "  <thead>\n",
       "    <tr style=\"text-align: right;\">\n",
       "      <th></th>\n",
       "      <th>AAPL_CAP</th>\n",
       "      <th>AAPL</th>\n",
       "      <th>SP500_point</th>\n",
       "      <th>SP500_CAP</th>\n",
       "      <th>SP500</th>\n",
       "      <th>SP500-AAPL(CAP)</th>\n",
       "      <th>NewSP500</th>\n",
       "    </tr>\n",
       "    <tr>\n",
       "      <th>Date</th>\n",
       "      <th></th>\n",
       "      <th></th>\n",
       "      <th></th>\n",
       "      <th></th>\n",
       "      <th></th>\n",
       "      <th></th>\n",
       "      <th></th>\n",
       "    </tr>\n",
       "  </thead>\n",
       "  <tbody>\n",
       "    <tr>\n",
       "      <th>2010-01-04</th>\n",
       "      <td>NaN</td>\n",
       "      <td>NaN</td>\n",
       "      <td>1132.99</td>\n",
       "      <td>NaN</td>\n",
       "      <td>NaN</td>\n",
       "      <td>NaN</td>\n",
       "      <td>NaN</td>\n",
       "    </tr>\n",
       "    <tr>\n",
       "      <th>2010-01-05</th>\n",
       "      <td>155650.970360</td>\n",
       "      <td>0.001963</td>\n",
       "      <td>1136.52</td>\n",
       "      <td>1.028779e+07</td>\n",
       "      <td>0.003116</td>\n",
       "      <td>1.013214e+07</td>\n",
       "      <td>NaN</td>\n",
       "    </tr>\n",
       "    <tr>\n",
       "      <th>2010-01-06</th>\n",
       "      <td>153160.961366</td>\n",
       "      <td>-0.015997</td>\n",
       "      <td>1137.14</td>\n",
       "      <td>1.029340e+07</td>\n",
       "      <td>0.000546</td>\n",
       "      <td>1.014024e+07</td>\n",
       "      <td>0.000800</td>\n",
       "    </tr>\n",
       "    <tr>\n",
       "      <th>2010-01-07</th>\n",
       "      <td>152856.062306</td>\n",
       "      <td>-0.001991</td>\n",
       "      <td>1141.69</td>\n",
       "      <td>1.033459e+07</td>\n",
       "      <td>0.004001</td>\n",
       "      <td>1.018173e+07</td>\n",
       "      <td>0.004092</td>\n",
       "    </tr>\n",
       "    <tr>\n",
       "      <th>2010-01-08</th>\n",
       "      <td>153872.392507</td>\n",
       "      <td>0.006649</td>\n",
       "      <td>1144.98</td>\n",
       "      <td>1.036437e+07</td>\n",
       "      <td>0.002882</td>\n",
       "      <td>1.021049e+07</td>\n",
       "      <td>0.002825</td>\n",
       "    </tr>\n",
       "  </tbody>\n",
       "</table>\n",
       "</div>"
      ],
      "text/plain": [
       "                 AAPL_CAP      AAPL  SP500_point     SP500_CAP     SP500  \\\n",
       "Date                                                                       \n",
       "2010-01-04            NaN       NaN      1132.99           NaN       NaN   \n",
       "2010-01-05  155650.970360  0.001963      1136.52  1.028779e+07  0.003116   \n",
       "2010-01-06  153160.961366 -0.015997      1137.14  1.029340e+07  0.000546   \n",
       "2010-01-07  152856.062306 -0.001991      1141.69  1.033459e+07  0.004001   \n",
       "2010-01-08  153872.392507  0.006649      1144.98  1.036437e+07  0.002882   \n",
       "\n",
       "            SP500-AAPL(CAP)  NewSP500  \n",
       "Date                                   \n",
       "2010-01-04              NaN       NaN  \n",
       "2010-01-05     1.013214e+07       NaN  \n",
       "2010-01-06     1.014024e+07  0.000800  \n",
       "2010-01-07     1.018173e+07  0.004092  \n",
       "2010-01-08     1.021049e+07  0.002825  "
      ]
     },
     "execution_count": 26,
     "metadata": {},
     "output_type": "execute_result"
    }
   ],
   "source": [
    "df = pd.read_csv(path+'/sp500회귀분석기초데이터.csv', index_col=0) # 단위 : Million\n",
    "df.head()"
   ]
  },
  {
   "cell_type": "code",
   "execution_count": 27,
   "metadata": {},
   "outputs": [
    {
     "data": {
      "text/html": [
       "<div>\n",
       "<style scoped>\n",
       "    .dataframe tbody tr th:only-of-type {\n",
       "        vertical-align: middle;\n",
       "    }\n",
       "\n",
       "    .dataframe tbody tr th {\n",
       "        vertical-align: top;\n",
       "    }\n",
       "\n",
       "    .dataframe thead th {\n",
       "        text-align: right;\n",
       "    }\n",
       "</style>\n",
       "<table border=\"1\" class=\"dataframe\">\n",
       "  <thead>\n",
       "    <tr style=\"text-align: right;\">\n",
       "      <th></th>\n",
       "      <th>AAPL_CAP</th>\n",
       "      <th>AAPL</th>\n",
       "      <th>SP500_point</th>\n",
       "      <th>SP500_CAP</th>\n",
       "      <th>SP500</th>\n",
       "      <th>SP500-AAPL(CAP)</th>\n",
       "      <th>NewSP500</th>\n",
       "    </tr>\n",
       "    <tr>\n",
       "      <th>Date</th>\n",
       "      <th></th>\n",
       "      <th></th>\n",
       "      <th></th>\n",
       "      <th></th>\n",
       "      <th></th>\n",
       "      <th></th>\n",
       "      <th></th>\n",
       "    </tr>\n",
       "  </thead>\n",
       "  <tbody>\n",
       "    <tr>\n",
       "      <th>2017-12-22</th>\n",
       "      <td>889339.742823</td>\n",
       "      <td>0.000000</td>\n",
       "      <td>2683.34</td>\n",
       "      <td>2.428961e+07</td>\n",
       "      <td>-0.000458</td>\n",
       "      <td>2.340027e+07</td>\n",
       "      <td>-0.000476</td>\n",
       "    </tr>\n",
       "    <tr>\n",
       "      <th>2017-12-26</th>\n",
       "      <td>866777.212350</td>\n",
       "      <td>-0.025370</td>\n",
       "      <td>2680.50</td>\n",
       "      <td>2.426390e+07</td>\n",
       "      <td>-0.001058</td>\n",
       "      <td>2.339713e+07</td>\n",
       "      <td>-0.000134</td>\n",
       "    </tr>\n",
       "    <tr>\n",
       "      <th>2017-12-27</th>\n",
       "      <td>866929.661880</td>\n",
       "      <td>0.000176</td>\n",
       "      <td>2682.62</td>\n",
       "      <td>2.428310e+07</td>\n",
       "      <td>0.000791</td>\n",
       "      <td>2.341617e+07</td>\n",
       "      <td>0.000814</td>\n",
       "    </tr>\n",
       "    <tr>\n",
       "      <th>2017-12-28</th>\n",
       "      <td>869368.854364</td>\n",
       "      <td>0.002814</td>\n",
       "      <td>2687.54</td>\n",
       "      <td>2.432763e+07</td>\n",
       "      <td>0.001834</td>\n",
       "      <td>2.345826e+07</td>\n",
       "      <td>0.001798</td>\n",
       "    </tr>\n",
       "    <tr>\n",
       "      <th>2017-12-29</th>\n",
       "      <td>859967.800000</td>\n",
       "      <td>-0.010814</td>\n",
       "      <td>2673.61</td>\n",
       "      <td>2.420154e+07</td>\n",
       "      <td>-0.005183</td>\n",
       "      <td>2.334157e+07</td>\n",
       "      <td>-0.004975</td>\n",
       "    </tr>\n",
       "  </tbody>\n",
       "</table>\n",
       "</div>"
      ],
      "text/plain": [
       "                 AAPL_CAP      AAPL  SP500_point     SP500_CAP     SP500  \\\n",
       "Date                                                                       \n",
       "2017-12-22  889339.742823  0.000000      2683.34  2.428961e+07 -0.000458   \n",
       "2017-12-26  866777.212350 -0.025370      2680.50  2.426390e+07 -0.001058   \n",
       "2017-12-27  866929.661880  0.000176      2682.62  2.428310e+07  0.000791   \n",
       "2017-12-28  869368.854364  0.002814      2687.54  2.432763e+07  0.001834   \n",
       "2017-12-29  859967.800000 -0.010814      2673.61  2.420154e+07 -0.005183   \n",
       "\n",
       "            SP500-AAPL(CAP)  NewSP500  \n",
       "Date                                   \n",
       "2017-12-22     2.340027e+07 -0.000476  \n",
       "2017-12-26     2.339713e+07 -0.000134  \n",
       "2017-12-27     2.341617e+07  0.000814  \n",
       "2017-12-28     2.345826e+07  0.001798  \n",
       "2017-12-29     2.334157e+07 -0.004975  "
      ]
     },
     "execution_count": 27,
     "metadata": {},
     "output_type": "execute_result"
    }
   ],
   "source": [
    "df.tail()"
   ]
  },
  {
   "cell_type": "code",
   "execution_count": 28,
   "metadata": {},
   "outputs": [
    {
     "name": "stdout",
     "output_type": "stream",
     "text": [
      "2010-01-05, 역산한 값 : 10287.787 US Billion\n",
      "2010-01-05, 제공받은 값(yardeni) : 10120.190 US Billion\n",
      "\n",
      "2017-12-29, 제공받은 값 : 24201.537 US Billion\n",
      "2017-12-29, 제공받은 값(yardeni) : 22821.240 US Billion\n"
     ]
    }
   ],
   "source": [
    "print(\"2010-01-05, 역산한 값 : %5.3f\" % (df['SP500_CAP']['2010-01-05']*1000000/1000000000), \"US Billion\")\n",
    "print('2010-01-05, 제공받은 값(yardeni) : %5.3f' % spINX['S&P 500']['2010-01-05'], 'US Billion')\n",
    "print(\"\")\n",
    "print(\"2017-12-29, 제공받은 값 : %5.3f\" % (df['SP500_CAP']['2017-12-29']*1000000/1000000000), \"US Billion\")\n",
    "print('2017-12-29, 제공받은 값(yardeni) : %5.3f' % spINX['S&P 500']['2017-12-29'], 'US Billion')"
   ]
  },
  {
   "cell_type": "code",
   "execution_count": 29,
   "metadata": {},
   "outputs": [
    {
     "data": {
      "text/plain": [
       "1380.2969999999987"
      ]
     },
     "execution_count": 29,
     "metadata": {},
     "output_type": "execute_result"
    }
   ],
   "source": [
    "24201.537 - 22821.240"
   ]
  },
  {
   "cell_type": "markdown",
   "metadata": {},
   "source": [
    "* yardeni의 데이터의 단위 : Billion (출처 : 메일로 받음)\n",
    "* siblisresearch의 데이터 단위 : Million (출처 : http://siblisresearch.com/data/market-caps-sp-100-us/)\n",
    "\n",
    "\n",
    "\n",
    "* 2017-12-29 서로 다른 리서치 기관에서 제공한 두 값은 약 1380 B 차이남\n",
    "* 2017-12-29 동일 대상인 S&P 500 시가총액 데이터의 값이 다른 이유는 단위표기의 차이에서 발생하는 오차로 인한 것?"
   ]
  },
  {
   "cell_type": "code",
   "execution_count": 30,
   "metadata": {},
   "outputs": [
    {
     "data": {
      "text/html": [
       "<div>\n",
       "<style scoped>\n",
       "    .dataframe tbody tr th:only-of-type {\n",
       "        vertical-align: middle;\n",
       "    }\n",
       "\n",
       "    .dataframe tbody tr th {\n",
       "        vertical-align: top;\n",
       "    }\n",
       "\n",
       "    .dataframe thead th {\n",
       "        text-align: right;\n",
       "    }\n",
       "</style>\n",
       "<table border=\"1\" class=\"dataframe\">\n",
       "  <thead>\n",
       "    <tr style=\"text-align: right;\">\n",
       "      <th></th>\n",
       "      <th>Close</th>\n",
       "      <th>Open</th>\n",
       "      <th>High</th>\n",
       "      <th>Low</th>\n",
       "      <th>Volume</th>\n",
       "      <th>Change</th>\n",
       "    </tr>\n",
       "    <tr>\n",
       "      <th>Date</th>\n",
       "      <th></th>\n",
       "      <th></th>\n",
       "      <th></th>\n",
       "      <th></th>\n",
       "      <th></th>\n",
       "      <th></th>\n",
       "    </tr>\n",
       "  </thead>\n",
       "  <tbody>\n",
       "    <tr>\n",
       "      <th>2009-12-01</th>\n",
       "      <td>7.03</td>\n",
       "      <td>7.22</td>\n",
       "      <td>7.24</td>\n",
       "      <td>7.03</td>\n",
       "      <td>465760000.0</td>\n",
       "      <td>-0.0154</td>\n",
       "    </tr>\n",
       "    <tr>\n",
       "      <th>2009-12-02</th>\n",
       "      <td>7.01</td>\n",
       "      <td>7.11</td>\n",
       "      <td>7.19</td>\n",
       "      <td>6.99</td>\n",
       "      <td>715260000.0</td>\n",
       "      <td>-0.0028</td>\n",
       "    </tr>\n",
       "    <tr>\n",
       "      <th>2009-12-03</th>\n",
       "      <td>7.02</td>\n",
       "      <td>7.05</td>\n",
       "      <td>7.11</td>\n",
       "      <td>7.01</td>\n",
       "      <td>448720000.0</td>\n",
       "      <td>0.0014</td>\n",
       "    </tr>\n",
       "    <tr>\n",
       "      <th>2009-12-04</th>\n",
       "      <td>6.90</td>\n",
       "      <td>7.13</td>\n",
       "      <td>7.14</td>\n",
       "      <td>6.80</td>\n",
       "      <td>827110000.0</td>\n",
       "      <td>-0.0171</td>\n",
       "    </tr>\n",
       "    <tr>\n",
       "      <th>2009-12-07</th>\n",
       "      <td>6.75</td>\n",
       "      <td>6.90</td>\n",
       "      <td>6.92</td>\n",
       "      <td>6.74</td>\n",
       "      <td>714760000.0</td>\n",
       "      <td>-0.0217</td>\n",
       "    </tr>\n",
       "  </tbody>\n",
       "</table>\n",
       "</div>"
      ],
      "text/plain": [
       "            Close  Open  High   Low       Volume  Change\n",
       "Date                                                    \n",
       "2009-12-01   7.03  7.22  7.24  7.03  465760000.0 -0.0154\n",
       "2009-12-02   7.01  7.11  7.19  6.99  715260000.0 -0.0028\n",
       "2009-12-03   7.02  7.05  7.11  7.01  448720000.0  0.0014\n",
       "2009-12-04   6.90  7.13  7.14  6.80  827110000.0 -0.0171\n",
       "2009-12-07   6.75  6.90  6.92  6.74  714760000.0 -0.0217"
      ]
     },
     "execution_count": 30,
     "metadata": {},
     "output_type": "execute_result"
    }
   ],
   "source": [
    "aaplReturn = fdr.DataReader('AAPL', '2009-12', '2017-12-31')\n",
    "aaplReturn.head()"
   ]
  },
  {
   "cell_type": "code",
   "execution_count": 31,
   "metadata": {},
   "outputs": [
    {
     "data": {
      "text/html": [
       "<div>\n",
       "<style scoped>\n",
       "    .dataframe tbody tr th:only-of-type {\n",
       "        vertical-align: middle;\n",
       "    }\n",
       "\n",
       "    .dataframe tbody tr th {\n",
       "        vertical-align: top;\n",
       "    }\n",
       "\n",
       "    .dataframe thead th {\n",
       "        text-align: right;\n",
       "    }\n",
       "</style>\n",
       "<table border=\"1\" class=\"dataframe\">\n",
       "  <thead>\n",
       "    <tr style=\"text-align: right;\">\n",
       "      <th></th>\n",
       "      <th>Close</th>\n",
       "      <th>Open</th>\n",
       "      <th>High</th>\n",
       "      <th>Low</th>\n",
       "      <th>Volume</th>\n",
       "      <th>Change</th>\n",
       "    </tr>\n",
       "    <tr>\n",
       "      <th>Date</th>\n",
       "      <th></th>\n",
       "      <th></th>\n",
       "      <th></th>\n",
       "      <th></th>\n",
       "      <th></th>\n",
       "      <th></th>\n",
       "    </tr>\n",
       "  </thead>\n",
       "  <tbody>\n",
       "    <tr>\n",
       "      <th>2017-12-22</th>\n",
       "      <td>43.75</td>\n",
       "      <td>43.67</td>\n",
       "      <td>43.86</td>\n",
       "      <td>43.62</td>\n",
       "      <td>65400000.0</td>\n",
       "      <td>0.0000</td>\n",
       "    </tr>\n",
       "    <tr>\n",
       "      <th>2017-12-26</th>\n",
       "      <td>42.64</td>\n",
       "      <td>42.70</td>\n",
       "      <td>42.87</td>\n",
       "      <td>42.42</td>\n",
       "      <td>132740000.0</td>\n",
       "      <td>-0.0254</td>\n",
       "    </tr>\n",
       "    <tr>\n",
       "      <th>2017-12-27</th>\n",
       "      <td>42.65</td>\n",
       "      <td>42.52</td>\n",
       "      <td>42.70</td>\n",
       "      <td>42.43</td>\n",
       "      <td>85990000.0</td>\n",
       "      <td>0.0002</td>\n",
       "    </tr>\n",
       "    <tr>\n",
       "      <th>2017-12-28</th>\n",
       "      <td>42.77</td>\n",
       "      <td>42.75</td>\n",
       "      <td>42.96</td>\n",
       "      <td>42.62</td>\n",
       "      <td>65920000.0</td>\n",
       "      <td>0.0028</td>\n",
       "    </tr>\n",
       "    <tr>\n",
       "      <th>2017-12-29</th>\n",
       "      <td>42.31</td>\n",
       "      <td>42.63</td>\n",
       "      <td>42.65</td>\n",
       "      <td>42.30</td>\n",
       "      <td>104000000.0</td>\n",
       "      <td>-0.0108</td>\n",
       "    </tr>\n",
       "  </tbody>\n",
       "</table>\n",
       "</div>"
      ],
      "text/plain": [
       "            Close   Open   High    Low       Volume  Change\n",
       "Date                                                       \n",
       "2017-12-22  43.75  43.67  43.86  43.62   65400000.0  0.0000\n",
       "2017-12-26  42.64  42.70  42.87  42.42  132740000.0 -0.0254\n",
       "2017-12-27  42.65  42.52  42.70  42.43   85990000.0  0.0002\n",
       "2017-12-28  42.77  42.75  42.96  42.62   65920000.0  0.0028\n",
       "2017-12-29  42.31  42.63  42.65  42.30  104000000.0 -0.0108"
      ]
     },
     "execution_count": 31,
     "metadata": {},
     "output_type": "execute_result"
    }
   ],
   "source": [
    "aaplReturn.tail()"
   ]
  },
  {
   "cell_type": "code",
   "execution_count": 270,
   "metadata": {},
   "outputs": [
    {
     "data": {
      "text/html": [
       "<div>\n",
       "<style scoped>\n",
       "    .dataframe tbody tr th:only-of-type {\n",
       "        vertical-align: middle;\n",
       "    }\n",
       "\n",
       "    .dataframe tbody tr th {\n",
       "        vertical-align: top;\n",
       "    }\n",
       "\n",
       "    .dataframe thead th {\n",
       "        text-align: right;\n",
       "    }\n",
       "</style>\n",
       "<table border=\"1\" class=\"dataframe\">\n",
       "  <thead>\n",
       "    <tr style=\"text-align: right;\">\n",
       "      <th></th>\n",
       "      <th>aapl</th>\n",
       "    </tr>\n",
       "    <tr>\n",
       "      <th>Date</th>\n",
       "      <th></th>\n",
       "    </tr>\n",
       "  </thead>\n",
       "  <tbody>\n",
       "    <tr>\n",
       "      <th>2017-12-22</th>\n",
       "      <td>0.000000</td>\n",
       "    </tr>\n",
       "    <tr>\n",
       "      <th>2017-12-26</th>\n",
       "      <td>-0.025370</td>\n",
       "    </tr>\n",
       "    <tr>\n",
       "      <th>2017-12-27</th>\n",
       "      <td>0.000176</td>\n",
       "    </tr>\n",
       "    <tr>\n",
       "      <th>2017-12-28</th>\n",
       "      <td>0.002814</td>\n",
       "    </tr>\n",
       "    <tr>\n",
       "      <th>2017-12-29</th>\n",
       "      <td>-0.010814</td>\n",
       "    </tr>\n",
       "  </tbody>\n",
       "</table>\n",
       "</div>"
      ],
      "text/plain": [
       "                aapl\n",
       "Date                \n",
       "2017-12-22  0.000000\n",
       "2017-12-26 -0.025370\n",
       "2017-12-27  0.000176\n",
       "2017-12-28  0.002814\n",
       "2017-12-29 -0.010814"
      ]
     },
     "execution_count": 270,
     "metadata": {},
     "output_type": "execute_result"
    }
   ],
   "source": [
    "aapl = pd.DataFrame()\n",
    "aapl['aapl'] = aaplReturn['Close'] / aaplReturn['Close'].shift(1) - 1\n",
    "aapl['2009-12-31':'2017'].tail()"
   ]
  },
  {
   "cell_type": "code",
   "execution_count": 271,
   "metadata": {},
   "outputs": [],
   "source": [
    "aaplcap = pd.DataFrame()\n",
    "aaplcap['return'] = aapl['aapl']['2009-12-31':]"
   ]
  },
  {
   "cell_type": "code",
   "execution_count": 272,
   "metadata": {},
   "outputs": [],
   "source": [
    "aaplcap['cap'] = 859967.8"
   ]
  },
  {
   "cell_type": "code",
   "execution_count": 273,
   "metadata": {},
   "outputs": [],
   "source": [
    "aaplcap['cumreturn'] = aaplcap['return'].add(1).cumprod()"
   ]
  },
  {
   "cell_type": "code",
   "execution_count": 274,
   "metadata": {},
   "outputs": [],
   "source": [
    "lastvalue = aaplcap['cumreturn'][-1]"
   ]
  },
  {
   "cell_type": "code",
   "execution_count": 275,
   "metadata": {},
   "outputs": [],
   "source": [
    "aaplcap['cumreturn'] = aaplcap['cumreturn']/lastvalue"
   ]
  },
  {
   "cell_type": "code",
   "execution_count": 276,
   "metadata": {},
   "outputs": [],
   "source": [
    "aaplcap['cap'] = 859967.8 * aaplcap['cumreturn']"
   ]
  },
  {
   "cell_type": "code",
   "execution_count": 277,
   "metadata": {},
   "outputs": [
    {
     "data": {
      "text/html": [
       "<div>\n",
       "<style scoped>\n",
       "    .dataframe tbody tr th:only-of-type {\n",
       "        vertical-align: middle;\n",
       "    }\n",
       "\n",
       "    .dataframe tbody tr th {\n",
       "        vertical-align: top;\n",
       "    }\n",
       "\n",
       "    .dataframe thead th {\n",
       "        text-align: right;\n",
       "    }\n",
       "</style>\n",
       "<table border=\"1\" class=\"dataframe\">\n",
       "  <thead>\n",
       "    <tr style=\"text-align: right;\">\n",
       "      <th></th>\n",
       "      <th>return</th>\n",
       "      <th>cap</th>\n",
       "      <th>cumreturn</th>\n",
       "    </tr>\n",
       "    <tr>\n",
       "      <th>Date</th>\n",
       "      <th></th>\n",
       "      <th></th>\n",
       "      <th></th>\n",
       "    </tr>\n",
       "  </thead>\n",
       "  <tbody>\n",
       "    <tr>\n",
       "      <th>2009-12-31</th>\n",
       "      <td>-0.004300</td>\n",
       "      <td>152957.695326</td>\n",
       "      <td>0.177864</td>\n",
       "    </tr>\n",
       "    <tr>\n",
       "      <th>2010-01-04</th>\n",
       "      <td>0.015615</td>\n",
       "      <td>155346.071299</td>\n",
       "      <td>0.180642</td>\n",
       "    </tr>\n",
       "    <tr>\n",
       "      <th>2010-01-05</th>\n",
       "      <td>0.001963</td>\n",
       "      <td>155650.970360</td>\n",
       "      <td>0.180996</td>\n",
       "    </tr>\n",
       "    <tr>\n",
       "      <th>2010-01-06</th>\n",
       "      <td>-0.015997</td>\n",
       "      <td>153160.961366</td>\n",
       "      <td>0.178101</td>\n",
       "    </tr>\n",
       "    <tr>\n",
       "      <th>2010-01-07</th>\n",
       "      <td>-0.001991</td>\n",
       "      <td>152856.062306</td>\n",
       "      <td>0.177746</td>\n",
       "    </tr>\n",
       "  </tbody>\n",
       "</table>\n",
       "</div>"
      ],
      "text/plain": [
       "              return            cap  cumreturn\n",
       "Date                                          \n",
       "2009-12-31 -0.004300  152957.695326   0.177864\n",
       "2010-01-04  0.015615  155346.071299   0.180642\n",
       "2010-01-05  0.001963  155650.970360   0.180996\n",
       "2010-01-06 -0.015997  153160.961366   0.178101\n",
       "2010-01-07 -0.001991  152856.062306   0.177746"
      ]
     },
     "execution_count": 277,
     "metadata": {},
     "output_type": "execute_result"
    }
   ],
   "source": [
    "aaplcap.head()"
   ]
  },
  {
   "cell_type": "code",
   "execution_count": 233,
   "metadata": {},
   "outputs": [
    {
     "data": {
      "text/html": [
       "<div>\n",
       "<style scoped>\n",
       "    .dataframe tbody tr th:only-of-type {\n",
       "        vertical-align: middle;\n",
       "    }\n",
       "\n",
       "    .dataframe tbody tr th {\n",
       "        vertical-align: top;\n",
       "    }\n",
       "\n",
       "    .dataframe thead th {\n",
       "        text-align: right;\n",
       "    }\n",
       "</style>\n",
       "<table border=\"1\" class=\"dataframe\">\n",
       "  <thead>\n",
       "    <tr style=\"text-align: right;\">\n",
       "      <th></th>\n",
       "      <th>return</th>\n",
       "      <th>cap</th>\n",
       "      <th>cumreturn</th>\n",
       "    </tr>\n",
       "    <tr>\n",
       "      <th>Date</th>\n",
       "      <th></th>\n",
       "      <th></th>\n",
       "      <th></th>\n",
       "    </tr>\n",
       "  </thead>\n",
       "  <tbody>\n",
       "    <tr>\n",
       "      <th>2017-12-22</th>\n",
       "      <td>0.000000</td>\n",
       "      <td>889339.742823</td>\n",
       "      <td>1.034155</td>\n",
       "    </tr>\n",
       "    <tr>\n",
       "      <th>2017-12-26</th>\n",
       "      <td>-0.025370</td>\n",
       "      <td>866777.212350</td>\n",
       "      <td>1.007918</td>\n",
       "    </tr>\n",
       "    <tr>\n",
       "      <th>2017-12-27</th>\n",
       "      <td>0.000176</td>\n",
       "      <td>866929.661880</td>\n",
       "      <td>1.008095</td>\n",
       "    </tr>\n",
       "    <tr>\n",
       "      <th>2017-12-28</th>\n",
       "      <td>0.002814</td>\n",
       "      <td>869368.854364</td>\n",
       "      <td>1.010932</td>\n",
       "    </tr>\n",
       "    <tr>\n",
       "      <th>2017-12-29</th>\n",
       "      <td>-0.010814</td>\n",
       "      <td>859967.800000</td>\n",
       "      <td>1.000000</td>\n",
       "    </tr>\n",
       "  </tbody>\n",
       "</table>\n",
       "</div>"
      ],
      "text/plain": [
       "              return            cap  cumreturn\n",
       "Date                                          \n",
       "2017-12-22  0.000000  889339.742823   1.034155\n",
       "2017-12-26 -0.025370  866777.212350   1.007918\n",
       "2017-12-27  0.000176  866929.661880   1.008095\n",
       "2017-12-28  0.002814  869368.854364   1.010932\n",
       "2017-12-29 -0.010814  859967.800000   1.000000"
      ]
     },
     "execution_count": 233,
     "metadata": {},
     "output_type": "execute_result"
    }
   ],
   "source": [
    "aaplcap.tail()"
   ]
  },
  {
   "cell_type": "code",
   "execution_count": 259,
   "metadata": {},
   "outputs": [
    {
     "data": {
      "text/plain": [
       "2015"
      ]
     },
     "execution_count": 259,
     "metadata": {},
     "output_type": "execute_result"
    }
   ],
   "source": [
    "len(aaplcap)"
   ]
  },
  {
   "cell_type": "code",
   "execution_count": 261,
   "metadata": {},
   "outputs": [
    {
     "data": {
      "text/html": [
       "<div>\n",
       "<style scoped>\n",
       "    .dataframe tbody tr th:only-of-type {\n",
       "        vertical-align: middle;\n",
       "    }\n",
       "\n",
       "    .dataframe tbody tr th {\n",
       "        vertical-align: top;\n",
       "    }\n",
       "\n",
       "    .dataframe thead th {\n",
       "        text-align: right;\n",
       "    }\n",
       "</style>\n",
       "<table border=\"1\" class=\"dataframe\">\n",
       "  <thead>\n",
       "    <tr style=\"text-align: right;\">\n",
       "      <th></th>\n",
       "      <th>SP500 CAP</th>\n",
       "      <th>SP400 CAP</th>\n",
       "      <th>SP600 CAP</th>\n",
       "      <th>SP1500 CAP</th>\n",
       "      <th>AAPL CAP</th>\n",
       "      <th>NewSP1500 CAP</th>\n",
       "    </tr>\n",
       "    <tr>\n",
       "      <th>date</th>\n",
       "      <th></th>\n",
       "      <th></th>\n",
       "      <th></th>\n",
       "      <th></th>\n",
       "      <th></th>\n",
       "      <th></th>\n",
       "    </tr>\n",
       "  </thead>\n",
       "  <tbody>\n",
       "    <tr>\n",
       "      <th>2010-01-04</th>\n",
       "      <td>10088.69</td>\n",
       "      <td>917.16</td>\n",
       "      <td>410.16</td>\n",
       "      <td>11416.01</td>\n",
       "      <td>155.346071</td>\n",
       "      <td>11260.663929</td>\n",
       "    </tr>\n",
       "    <tr>\n",
       "      <th>2010-01-05</th>\n",
       "      <td>10120.19</td>\n",
       "      <td>919.60</td>\n",
       "      <td>408.75</td>\n",
       "      <td>11448.55</td>\n",
       "      <td>155.650970</td>\n",
       "      <td>11292.899030</td>\n",
       "    </tr>\n",
       "    <tr>\n",
       "      <th>2010-01-06</th>\n",
       "      <td>10125.66</td>\n",
       "      <td>924.45</td>\n",
       "      <td>408.36</td>\n",
       "      <td>11458.48</td>\n",
       "      <td>153.160961</td>\n",
       "      <td>11305.319039</td>\n",
       "    </tr>\n",
       "    <tr>\n",
       "      <th>2010-01-07</th>\n",
       "      <td>10166.24</td>\n",
       "      <td>929.12</td>\n",
       "      <td>411.06</td>\n",
       "      <td>11506.43</td>\n",
       "      <td>152.856062</td>\n",
       "      <td>11353.573938</td>\n",
       "    </tr>\n",
       "    <tr>\n",
       "      <th>2010-01-08</th>\n",
       "      <td>10195.52</td>\n",
       "      <td>934.47</td>\n",
       "      <td>412.37</td>\n",
       "      <td>11542.36</td>\n",
       "      <td>153.872393</td>\n",
       "      <td>11388.487607</td>\n",
       "    </tr>\n",
       "  </tbody>\n",
       "</table>\n",
       "</div>"
      ],
      "text/plain": [
       "            SP500 CAP  SP400 CAP  SP600 CAP  SP1500 CAP    AAPL CAP  \\\n",
       "date                                                                  \n",
       "2010-01-04   10088.69     917.16     410.16    11416.01  155.346071   \n",
       "2010-01-05   10120.19     919.60     408.75    11448.55  155.650970   \n",
       "2010-01-06   10125.66     924.45     408.36    11458.48  153.160961   \n",
       "2010-01-07   10166.24     929.12     411.06    11506.43  152.856062   \n",
       "2010-01-08   10195.52     934.47     412.37    11542.36  153.872393   \n",
       "\n",
       "            NewSP1500 CAP  \n",
       "date                       \n",
       "2010-01-04   11260.663929  \n",
       "2010-01-05   11292.899030  \n",
       "2010-01-06   11305.319039  \n",
       "2010-01-07   11353.573938  \n",
       "2010-01-08   11388.487607  "
      ]
     },
     "execution_count": 261,
     "metadata": {},
     "output_type": "execute_result"
    }
   ],
   "source": [
    "new_df = pd.DataFrame()\n",
    "new_df['SP500 CAP'] = spINX['S&P 500'] # 단위 : 빌리언\n",
    "new_df['SP400 CAP'] = spINX['S&P 400'] # 단위 : 빌리언\n",
    "new_df['SP600 CAP'] = spINX['S&P 600'] # 단위 : 빌리언\n",
    "new_df['SP1500 CAP'] = spINX['S&P 1500'] # 단위 : 빌리언\n",
    "new_df['AAPL CAP'] = aaplcap['cap']/1000 # 애플 시가총액 단위 : 밀리언 -> 빌리언 단위로 바꿔줬음\n",
    "new_df['NewSP1500 CAP'] = new_df['SP1500 CAP'] - new_df['AAPL CAP']\n",
    "new_df.head()"
   ]
  },
  {
   "cell_type": "code",
   "execution_count": 245,
   "metadata": {},
   "outputs": [
    {
     "data": {
      "text/html": [
       "<div>\n",
       "<style scoped>\n",
       "    .dataframe tbody tr th:only-of-type {\n",
       "        vertical-align: middle;\n",
       "    }\n",
       "\n",
       "    .dataframe tbody tr th {\n",
       "        vertical-align: top;\n",
       "    }\n",
       "\n",
       "    .dataframe thead th {\n",
       "        text-align: right;\n",
       "    }\n",
       "</style>\n",
       "<table border=\"1\" class=\"dataframe\">\n",
       "  <thead>\n",
       "    <tr style=\"text-align: right;\">\n",
       "      <th></th>\n",
       "      <th>SP500 CAP</th>\n",
       "      <th>SP400 CAP</th>\n",
       "      <th>SP600 CAP</th>\n",
       "      <th>SP1500 CAP</th>\n",
       "      <th>AAPL CAP</th>\n",
       "      <th>NewSP1500 CAP</th>\n",
       "    </tr>\n",
       "    <tr>\n",
       "      <th>date</th>\n",
       "      <th></th>\n",
       "      <th></th>\n",
       "      <th></th>\n",
       "      <th></th>\n",
       "      <th></th>\n",
       "      <th></th>\n",
       "    </tr>\n",
       "  </thead>\n",
       "  <tbody>\n",
       "    <tr>\n",
       "      <th>2017-12-22</th>\n",
       "      <td>22903.76</td>\n",
       "      <td>1786.09</td>\n",
       "      <td>786.47</td>\n",
       "      <td>25476.32</td>\n",
       "      <td>889.339743</td>\n",
       "      <td>24586.980257</td>\n",
       "    </tr>\n",
       "    <tr>\n",
       "      <th>2017-12-26</th>\n",
       "      <td>22880.12</td>\n",
       "      <td>1787.18</td>\n",
       "      <td>787.42</td>\n",
       "      <td>25454.72</td>\n",
       "      <td>866.777212</td>\n",
       "      <td>24587.942788</td>\n",
       "    </tr>\n",
       "    <tr>\n",
       "      <th>2017-12-27</th>\n",
       "      <td>22898.18</td>\n",
       "      <td>1786.98</td>\n",
       "      <td>787.28</td>\n",
       "      <td>25472.43</td>\n",
       "      <td>866.929662</td>\n",
       "      <td>24605.500338</td>\n",
       "    </tr>\n",
       "    <tr>\n",
       "      <th>2017-12-28</th>\n",
       "      <td>22940.12</td>\n",
       "      <td>1792.38</td>\n",
       "      <td>790.37</td>\n",
       "      <td>25522.87</td>\n",
       "      <td>869.368854</td>\n",
       "      <td>24653.501146</td>\n",
       "    </tr>\n",
       "    <tr>\n",
       "      <th>2017-12-29</th>\n",
       "      <td>22821.24</td>\n",
       "      <td>1782.33</td>\n",
       "      <td>784.39</td>\n",
       "      <td>25387.97</td>\n",
       "      <td>859.967800</td>\n",
       "      <td>24528.002200</td>\n",
       "    </tr>\n",
       "  </tbody>\n",
       "</table>\n",
       "</div>"
      ],
      "text/plain": [
       "            SP500 CAP  SP400 CAP  SP600 CAP  SP1500 CAP    AAPL CAP  \\\n",
       "date                                                                  \n",
       "2017-12-22   22903.76    1786.09     786.47    25476.32  889.339743   \n",
       "2017-12-26   22880.12    1787.18     787.42    25454.72  866.777212   \n",
       "2017-12-27   22898.18    1786.98     787.28    25472.43  866.929662   \n",
       "2017-12-28   22940.12    1792.38     790.37    25522.87  869.368854   \n",
       "2017-12-29   22821.24    1782.33     784.39    25387.97  859.967800   \n",
       "\n",
       "            NewSP1500 CAP  \n",
       "date                       \n",
       "2017-12-22   24586.980257  \n",
       "2017-12-26   24587.942788  \n",
       "2017-12-27   24605.500338  \n",
       "2017-12-28   24653.501146  \n",
       "2017-12-29   24528.002200  "
      ]
     },
     "execution_count": 245,
     "metadata": {},
     "output_type": "execute_result"
    }
   ],
   "source": [
    "new_df.tail()"
   ]
  },
  {
   "cell_type": "code",
   "execution_count": 249,
   "metadata": {},
   "outputs": [
    {
     "data": {
      "text/plain": [
       "date\n",
       "2012-09-04    489.972790\n",
       "2012-09-05    486.568084\n",
       "2012-09-06    490.938304\n",
       "2012-09-07    493.987294\n",
       "2012-09-10    481.130717\n",
       "2012-09-11    479.555406\n",
       "2012-09-12    486.212368\n",
       "2012-09-13    495.816689\n",
       "2012-09-14    501.813037\n",
       "2012-09-17    508.012651\n",
       "2012-09-18    509.537147\n",
       "2012-09-19    509.689596\n",
       "2012-09-20    507.199587\n",
       "2012-09-21    508.215917\n",
       "2012-09-24    501.457321\n",
       "2012-09-25    488.956460\n",
       "2012-09-26    482.909295\n",
       "2012-09-27    494.597093\n",
       "2012-09-28    484.281341\n",
       "Name: AAPL CAP, dtype: float64"
      ]
     },
     "execution_count": 249,
     "metadata": {},
     "output_type": "execute_result"
    }
   ],
   "source": [
    "new_df['AAPL CAP']['2012-09']"
   ]
  },
  {
   "cell_type": "code",
   "execution_count": 242,
   "metadata": {},
   "outputs": [
    {
     "data": {
      "text/plain": [
       "2012"
      ]
     },
     "execution_count": 242,
     "metadata": {},
     "output_type": "execute_result"
    }
   ],
   "source": [
    "len(new_df)"
   ]
  },
  {
   "cell_type": "code",
   "execution_count": 244,
   "metadata": {},
   "outputs": [],
   "source": [
    "new_df.to_csv(path+'/미국인덱스시가총액(빌리언).csv')"
   ]
  },
  {
   "cell_type": "raw",
   "metadata": {},
   "source": [
    "tem_series = new_df['AAPL CAP'] / new_df['AAPL CAP'].shift(1) - 1 \n",
    "tem_series['2010-01-05']"
   ]
  },
  {
   "cell_type": "raw",
   "metadata": {},
   "source": [
    "new_df_m = pd.DataFrame()\n",
    "new_df_m['SP500 CAP'] = spINX['S&P 500']*1000 # 단위 : 빌리언 -> 밀리언\n",
    "new_df_m['SP400 CAP'] = spINX['S&P 400']*1000 # 단위 : 빌리언 -> 밀리언\n",
    "new_df_m['SP600 CAP'] = spINX['S&P 600']*1000 # 단위 : 빌리언 -> 밀리언\n",
    "new_df_m['SP1500 CAP'] = spINX['S&P 1500']*1000 # 단위 : 빌리언 -> 밀리언\n",
    "new_df_m['AAPL CAP'] = aaplcap['cap'] # 단위 : 밀리언\n",
    "new_df_m['NewSP1500 CAP'] = new_df_m['SP1500 CAP'] - new_df_m['AAPL CAP']\n",
    "new_df_m.head()"
   ]
  },
  {
   "cell_type": "raw",
   "metadata": {},
   "source": [
    "tem_series2 = new_df_m['AAPL CAP'] / new_df_m['AAPL CAP'].shift(1) - 1\n",
    "tem_series2['2010-01-05']"
   ]
  },
  {
   "cell_type": "code",
   "execution_count": null,
   "metadata": {},
   "outputs": [],
   "source": []
  },
  {
   "cell_type": "code",
   "execution_count": null,
   "metadata": {},
   "outputs": [],
   "source": []
  },
  {
   "cell_type": "code",
   "execution_count": null,
   "metadata": {},
   "outputs": [],
   "source": []
  }
 ],
 "metadata": {
  "kernelspec": {
   "display_name": "Python 3",
   "language": "python",
   "name": "python3"
  },
  "language_info": {
   "codemirror_mode": {
    "name": "ipython",
    "version": 3
   },
   "file_extension": ".py",
   "mimetype": "text/x-python",
   "name": "python",
   "nbconvert_exporter": "python",
   "pygments_lexer": "ipython3",
   "version": "3.6.5"
  }
 },
 "nbformat": 4,
 "nbformat_minor": 2
}
