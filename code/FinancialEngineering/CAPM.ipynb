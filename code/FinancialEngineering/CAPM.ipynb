{
 "cells": [
  {
   "cell_type": "code",
   "execution_count": 2,
   "metadata": {},
   "outputs": [],
   "source": [
    "import numpy as np\n",
    "import matplotlib.pyplot as plt\n",
    "import pandas as pd\n",
    "import seaborn as sns\n",
    "from scipy import optimize\n",
    "from datetime import datetime\n",
    "%matplotlib inline\n",
    "\n",
    "try:\n",
    "    import pandas_datareader.data as web\n",
    "except:\n",
    "    %pip install pip pandas-datareader\n",
    "    import pandas_datareader.data as web\n",
    "  "
   ]
  },
  {
   "cell_type": "code",
   "execution_count": 67,
   "metadata": {},
   "outputs": [],
   "source": [
    "def Asset(ticker, start, end, interval):\n",
    "    return(web.get_data_yahoo(ticker, start, end, interval = interval))['Adj Close']\n",
    "\n",
    "def beta(asset):\n",
    "    CovBetweenMktandAsset = np.cov(MarketPortfolio, asset)    \n",
    "    return(CovBetweenMktandAsset[0,1]/CovBetweenMktandAsset[0,0]) \n",
    "\n",
    "def ExpectedReturn(beta):\n",
    "    ExpectedReturn = RiskFreeRate.mean() + beta * (MarketPortfolio.mean() -RiskFreeRate.mean())\n",
    "    return(ExpectedReturn)"
   ]
  },
  {
   "cell_type": "code",
   "execution_count": 69,
   "metadata": {},
   "outputs": [],
   "source": [
    "RiskFreeRate = Asset(\"^TNX\", '2001-01-01', '2021-12-31', 'm').pct_change().dropna()\n",
    "MarketPortfolio = Asset(\"^GSPC\", '2001-01-01', '2021-12-31', 'm').pct_change().dropna()\n",
    "asset1 = Asset(\"aapl\", '2001-01-01', '2021-12-31', 'm').pct_change().dropna()"
   ]
  },
  {
   "cell_type": "code",
   "execution_count": 70,
   "metadata": {},
   "outputs": [
    {
     "data": {
      "text/plain": [
       "1.2334810221586363"
      ]
     },
     "execution_count": 70,
     "metadata": {},
     "output_type": "execute_result"
    }
   ],
   "source": [
    "b = beta(asset1)\n",
    "\n",
    "b\n"
   ]
  },
  {
   "cell_type": "code",
   "execution_count": 71,
   "metadata": {},
   "outputs": [
    {
     "data": {
      "text/plain": [
       "0.007318777689028467"
      ]
     },
     "execution_count": 71,
     "metadata": {},
     "output_type": "execute_result"
    }
   ],
   "source": [
    "ExpectedReturn = RiskFreeRate.mean() + b * (MarketPortfolio.mean() -RiskFreeRate.mean())\n",
    "\n",
    "ExpectedReturn"
   ]
  }
 ],
 "metadata": {
  "interpreter": {
   "hash": "1607018b1a823a6a5b75e6ec7aaa9f9a407a828d03baff1f1154438ca22a9034"
  },
  "kernelspec": {
   "display_name": "Python 3.8.5 64-bit ('base': conda)",
   "language": "python",
   "name": "python3"
  },
  "language_info": {
   "codemirror_mode": {
    "name": "ipython",
    "version": 3
   },
   "file_extension": ".py",
   "mimetype": "text/x-python",
   "name": "python",
   "nbconvert_exporter": "python",
   "pygments_lexer": "ipython3",
   "version": "3.8.5"
  },
  "orig_nbformat": 4
 },
 "nbformat": 4,
 "nbformat_minor": 2
}
