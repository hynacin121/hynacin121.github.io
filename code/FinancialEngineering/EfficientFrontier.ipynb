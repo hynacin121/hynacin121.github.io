{
 "cells": [
  {
   "cell_type": "code",
   "execution_count": 1,
   "metadata": {},
   "outputs": [],
   "source": [
    "import numpy as np\n",
    "import matplotlib.pyplot as plt\n",
    "import pandas as pd\n",
    "import seaborn as sns\n",
    "from scipy import optimize\n",
    "from datetime import datetime\n",
    "%matplotlib inline\n",
    "\n",
    "try:\n",
    "    import pandas_datareader.data as web\n",
    "except:\n",
    "    %pip install pip pandas-datareader\n",
    "    import pandas_datareader.data as web\n",
    "  "
   ]
  },
  {
   "cell_type": "code",
   "execution_count": 23,
   "metadata": {},
   "outputs": [],
   "source": [
    "def Asset(ticker , start, end):\n",
    "    return(web.get_data_yahoo(ticker, start, end)['Adj Close'])"
   ]
  },
  {
   "cell_type": "code",
   "execution_count": 51,
   "metadata": {},
   "outputs": [
    {
     "data": {
      "text/html": [
       "<div>\n",
       "<style scoped>\n",
       "    .dataframe tbody tr th:only-of-type {\n",
       "        vertical-align: middle;\n",
       "    }\n",
       "\n",
       "    .dataframe tbody tr th {\n",
       "        vertical-align: top;\n",
       "    }\n",
       "\n",
       "    .dataframe thead th {\n",
       "        text-align: right;\n",
       "    }\n",
       "</style>\n",
       "<table border=\"1\" class=\"dataframe\">\n",
       "  <thead>\n",
       "    <tr style=\"text-align: right;\">\n",
       "      <th>Symbols</th>\n",
       "      <th>AAPL</th>\n",
       "      <th>GOOGL</th>\n",
       "      <th>MSFT</th>\n",
       "      <th>AMZN</th>\n",
       "    </tr>\n",
       "    <tr>\n",
       "      <th>Date</th>\n",
       "      <th></th>\n",
       "      <th></th>\n",
       "      <th></th>\n",
       "      <th></th>\n",
       "    </tr>\n",
       "  </thead>\n",
       "  <tbody>\n",
       "    <tr>\n",
       "      <th>2010-12-31</th>\n",
       "      <td>100.000000</td>\n",
       "      <td>100.000000</td>\n",
       "      <td>100.000000</td>\n",
       "      <td>100.000000</td>\n",
       "    </tr>\n",
       "    <tr>\n",
       "      <th>2011-01-03</th>\n",
       "      <td>102.173256</td>\n",
       "      <td>101.747561</td>\n",
       "      <td>100.250818</td>\n",
       "      <td>102.344445</td>\n",
       "    </tr>\n",
       "    <tr>\n",
       "      <th>2011-01-04</th>\n",
       "      <td>102.706471</td>\n",
       "      <td>101.372120</td>\n",
       "      <td>100.644935</td>\n",
       "      <td>102.783330</td>\n",
       "    </tr>\n",
       "    <tr>\n",
       "      <th>2011-01-05</th>\n",
       "      <td>103.546638</td>\n",
       "      <td>102.542215</td>\n",
       "      <td>100.322472</td>\n",
       "      <td>104.122221</td>\n",
       "    </tr>\n",
       "    <tr>\n",
       "      <th>2011-01-06</th>\n",
       "      <td>103.462933</td>\n",
       "      <td>103.288047</td>\n",
       "      <td>103.260478</td>\n",
       "      <td>103.255556</td>\n",
       "    </tr>\n",
       "    <tr>\n",
       "      <th>...</th>\n",
       "      <td>...</td>\n",
       "      <td>...</td>\n",
       "      <td>...</td>\n",
       "      <td>...</td>\n",
       "    </tr>\n",
       "    <tr>\n",
       "      <th>2021-12-27</th>\n",
       "      <td>1825.785237</td>\n",
       "      <td>995.057562</td>\n",
       "      <td>1556.170970</td>\n",
       "      <td>1885.216607</td>\n",
       "    </tr>\n",
       "    <tr>\n",
       "      <th>2021-12-28</th>\n",
       "      <td>1815.255473</td>\n",
       "      <td>986.853275</td>\n",
       "      <td>1550.717841</td>\n",
       "      <td>1896.233317</td>\n",
       "    </tr>\n",
       "    <tr>\n",
       "      <th>2021-12-29</th>\n",
       "      <td>1816.166813</td>\n",
       "      <td>986.638027</td>\n",
       "      <td>1553.898856</td>\n",
       "      <td>1880.011122</td>\n",
       "    </tr>\n",
       "    <tr>\n",
       "      <th>2021-12-30</th>\n",
       "      <td>1804.219599</td>\n",
       "      <td>983.580298</td>\n",
       "      <td>1541.947514</td>\n",
       "      <td>1873.827718</td>\n",
       "    </tr>\n",
       "    <tr>\n",
       "      <th>2021-12-31</th>\n",
       "      <td>1797.841150</td>\n",
       "      <td>974.508122</td>\n",
       "      <td>1528.314829</td>\n",
       "      <td>1852.411160</td>\n",
       "    </tr>\n",
       "  </tbody>\n",
       "</table>\n",
       "<p>2770 rows × 4 columns</p>\n",
       "</div>"
      ],
      "text/plain": [
       "Symbols            AAPL       GOOGL         MSFT         AMZN\n",
       "Date                                                         \n",
       "2010-12-31   100.000000  100.000000   100.000000   100.000000\n",
       "2011-01-03   102.173256  101.747561   100.250818   102.344445\n",
       "2011-01-04   102.706471  101.372120   100.644935   102.783330\n",
       "2011-01-05   103.546638  102.542215   100.322472   104.122221\n",
       "2011-01-06   103.462933  103.288047   103.260478   103.255556\n",
       "...                 ...         ...          ...          ...\n",
       "2021-12-27  1825.785237  995.057562  1556.170970  1885.216607\n",
       "2021-12-28  1815.255473  986.853275  1550.717841  1896.233317\n",
       "2021-12-29  1816.166813  986.638027  1553.898856  1880.011122\n",
       "2021-12-30  1804.219599  983.580298  1541.947514  1873.827718\n",
       "2021-12-31  1797.841150  974.508122  1528.314829  1852.411160\n",
       "\n",
       "[2770 rows x 4 columns]"
      ]
     },
     "execution_count": 51,
     "metadata": {},
     "output_type": "execute_result"
    }
   ],
   "source": [
    "data = Asset(['AAPL','GOOGL', 'MSFT', 'AMZN'], '2011-01-01', '2021-12-31')\n",
    "ret = data.pct_change().dropna()\n",
    "data = data/data.iloc[0]*100\n",
    "\n",
    "data"
   ]
  },
  {
   "cell_type": "code",
   "execution_count": 64,
   "metadata": {},
   "outputs": [],
   "source": [
    "n = len(data.columns)\n",
    "returns = []\n",
    "stds = []\n",
    "wgt = []\n",
    "count = 5000"
   ]
  },
  {
   "cell_type": "code",
   "execution_count": 65,
   "metadata": {},
   "outputs": [],
   "source": [
    "for i in range(count):\n",
    "    weights = np.random.random(n)\n",
    "    weights /= sum(weights)\n",
    "    wgt.append(weights)\n",
    "    mean = np.sum(weights * ret.mean()*252)\n",
    "    var = np.dot(weights.T, np.dot(ret.cov()*252, weights))\n",
    "    cov = np.sqrt(var)    \n",
    "    returns.append(mean)\n",
    "    stds.append(cov)\n",
    "    "
   ]
  },
  {
   "cell_type": "code",
   "execution_count": 66,
   "metadata": {},
   "outputs": [
    {
     "data": {
      "image/png": "[encoded data removed]",
      "text/plain": [
       "<Figure size 432x288 with 1 Axes>"
      ]
     },
     "metadata": {
      "needs_background": "light"
     },
     "output_type": "display_data"
    }
   ],
   "source": [
    "plt.scatter(stds, returns)\n",
    "plt.xlabel('expected std')\n",
    "plt.ylabel('expected returns')\n",
    "\n",
    "plt.show()"
   ]
  },
  {
   "cell_type": "code",
   "execution_count": 110,
   "metadata": {},
   "outputs": [
    {
     "data": {
      "text/html": [
       "<div>\n",
       "<style scoped>\n",
       "    .dataframe tbody tr th:only-of-type {\n",
       "        vertical-align: middle;\n",
       "    }\n",
       "\n",
       "    .dataframe tbody tr th {\n",
       "        vertical-align: top;\n",
       "    }\n",
       "\n",
       "    .dataframe thead th {\n",
       "        text-align: right;\n",
       "    }\n",
       "</style>\n",
       "<table border=\"1\" class=\"dataframe\">\n",
       "  <thead>\n",
       "    <tr style=\"text-align: right;\">\n",
       "      <th></th>\n",
       "      <th>Returns</th>\n",
       "      <th>Stds</th>\n",
       "      <th>AAPL</th>\n",
       "      <th>GOOGL</th>\n",
       "      <th>MSFT</th>\n",
       "      <th>AMZN</th>\n",
       "    </tr>\n",
       "  </thead>\n",
       "  <tbody>\n",
       "    <tr>\n",
       "      <th>0</th>\n",
       "      <td>0.275116</td>\n",
       "      <td>0.226846</td>\n",
       "      <td>0.382664</td>\n",
       "      <td>0.440495</td>\n",
       "      <td>0.057298</td>\n",
       "      <td>0.119544</td>\n",
       "    </tr>\n",
       "    <tr>\n",
       "      <th>1</th>\n",
       "      <td>0.272488</td>\n",
       "      <td>0.225754</td>\n",
       "      <td>0.023177</td>\n",
       "      <td>0.357022</td>\n",
       "      <td>0.437999</td>\n",
       "      <td>0.181801</td>\n",
       "    </tr>\n",
       "    <tr>\n",
       "      <th>2</th>\n",
       "      <td>0.272332</td>\n",
       "      <td>0.230374</td>\n",
       "      <td>0.034066</td>\n",
       "      <td>0.457029</td>\n",
       "      <td>0.218236</td>\n",
       "      <td>0.290669</td>\n",
       "    </tr>\n",
       "    <tr>\n",
       "      <th>3</th>\n",
       "      <td>0.305676</td>\n",
       "      <td>0.246441</td>\n",
       "      <td>0.407604</td>\n",
       "      <td>0.012275</td>\n",
       "      <td>0.080313</td>\n",
       "      <td>0.499807</td>\n",
       "    </tr>\n",
       "    <tr>\n",
       "      <th>4</th>\n",
       "      <td>0.279730</td>\n",
       "      <td>0.233068</td>\n",
       "      <td>0.543789</td>\n",
       "      <td>0.351188</td>\n",
       "      <td>0.063686</td>\n",
       "      <td>0.041337</td>\n",
       "    </tr>\n",
       "    <tr>\n",
       "      <th>...</th>\n",
       "      <td>...</td>\n",
       "      <td>...</td>\n",
       "      <td>...</td>\n",
       "      <td>...</td>\n",
       "      <td>...</td>\n",
       "      <td>...</td>\n",
       "    </tr>\n",
       "    <tr>\n",
       "      <th>4995</th>\n",
       "      <td>0.289427</td>\n",
       "      <td>0.225840</td>\n",
       "      <td>0.405860</td>\n",
       "      <td>0.170990</td>\n",
       "      <td>0.216636</td>\n",
       "      <td>0.206514</td>\n",
       "    </tr>\n",
       "    <tr>\n",
       "      <th>4996</th>\n",
       "      <td>0.290213</td>\n",
       "      <td>0.229517</td>\n",
       "      <td>0.431666</td>\n",
       "      <td>0.209376</td>\n",
       "      <td>0.099894</td>\n",
       "      <td>0.259065</td>\n",
       "    </tr>\n",
       "    <tr>\n",
       "      <th>4997</th>\n",
       "      <td>0.269263</td>\n",
       "      <td>0.229984</td>\n",
       "      <td>0.065382</td>\n",
       "      <td>0.519691</td>\n",
       "      <td>0.161456</td>\n",
       "      <td>0.253471</td>\n",
       "    </tr>\n",
       "    <tr>\n",
       "      <th>4998</th>\n",
       "      <td>0.277357</td>\n",
       "      <td>0.233841</td>\n",
       "      <td>0.110098</td>\n",
       "      <td>0.435789</td>\n",
       "      <td>0.089884</td>\n",
       "      <td>0.364229</td>\n",
       "    </tr>\n",
       "    <tr>\n",
       "      <th>4999</th>\n",
       "      <td>0.290964</td>\n",
       "      <td>0.234811</td>\n",
       "      <td>0.159618</td>\n",
       "      <td>0.191086</td>\n",
       "      <td>0.206883</td>\n",
       "      <td>0.442412</td>\n",
       "    </tr>\n",
       "  </tbody>\n",
       "</table>\n",
       "<p>5000 rows × 6 columns</p>\n",
       "</div>"
      ],
      "text/plain": [
       "       Returns      Stds      AAPL     GOOGL      MSFT      AMZN\n",
       "0     0.275116  0.226846  0.382664  0.440495  0.057298  0.119544\n",
       "1     0.272488  0.225754  0.023177  0.357022  0.437999  0.181801\n",
       "2     0.272332  0.230374  0.034066  0.457029  0.218236  0.290669\n",
       "3     0.305676  0.246441  0.407604  0.012275  0.080313  0.499807\n",
       "4     0.279730  0.233068  0.543789  0.351188  0.063686  0.041337\n",
       "...        ...       ...       ...       ...       ...       ...\n",
       "4995  0.289427  0.225840  0.405860  0.170990  0.216636  0.206514\n",
       "4996  0.290213  0.229517  0.431666  0.209376  0.099894  0.259065\n",
       "4997  0.269263  0.229984  0.065382  0.519691  0.161456  0.253471\n",
       "4998  0.277357  0.233841  0.110098  0.435789  0.089884  0.364229\n",
       "4999  0.290964  0.234811  0.159618  0.191086  0.206883  0.442412\n",
       "\n",
       "[5000 rows x 6 columns]"
      ]
     },
     "execution_count": 110,
     "metadata": {},
     "output_type": "execute_result"
    }
   ],
   "source": [
    "wgt2 = pd.DataFrame(wgt, columns = data.columns)\n",
    "dt = {'Returns':returns, 'Stds': stds}\n",
    "dt = pd.DataFrame(dt)\n",
    "\n",
    "eff = pd.concat([dt, wgt2], axis = 1)\n",
    "\n",
    "eff"
   ]
  },
  {
   "cell_type": "code",
   "execution_count": 117,
   "metadata": {},
   "outputs": [
    {
     "data": {
      "text/plain": [
       "<matplotlib.collections.PathCollection at 0x1a715282f70>"
      ]
     },
     "execution_count": 117,
     "metadata": {},
     "output_type": "execute_result"
    },
    {
     "data": {
      "image/png": "[encoded data removed]",
      "text/plain": [
       "<Figure size 432x432 with 1 Axes>"
      ]
     },
     "metadata": {
      "needs_background": "light"
     },
     "output_type": "display_data"
    }
   ],
   "source": [
    "min_vol_port = eff.iloc[eff['Stds'].idxmin()]\n",
    "\n",
    "plt.subplots(figsize=[6,6])\n",
    "plt.scatter(eff['Stds'], eff['Returns'], marker='o', s=10, alpha=0.3)\n",
    "plt.scatter(min_vol_port[1], min_vol_port[0], color='r', marker='*', s=150)\n",
    "\n",
    "\n",
    "#https://www.machinelearningplus.com/machine-learning/portfolio-optimization-python-example/"
   ]
  },
  {
   "cell_type": "code",
   "execution_count": 112,
   "metadata": {},
   "outputs": [
    {
     "data": {
      "text/plain": [
       "Returns    0.275556\n",
       "Stds       0.220297\n",
       "AAPL       0.232746\n",
       "GOOGL      0.336442\n",
       "MSFT       0.322994\n",
       "AMZN       0.107818\n",
       "Name: 807, dtype: float64"
      ]
     },
     "execution_count": 112,
     "metadata": {},
     "output_type": "execute_result"
    }
   ],
   "source": []
  }
 ],
 "metadata": {
  "interpreter": {
   "hash": "1607018b1a823a6a5b75e6ec7aaa9f9a407a828d03baff1f1154438ca22a9034"
  },
  "kernelspec": {
   "display_name": "Python 3.8.5 64-bit ('base': conda)",
   "language": "python",
   "name": "python3"
  },
  "language_info": {
   "codemirror_mode": {
    "name": "ipython",
    "version": 3
   },
   "file_extension": ".py",
   "mimetype": "text/x-python",
   "name": "python",
   "nbconvert_exporter": "python",
   "pygments_lexer": "ipython3",
   "version": "3.8.5"
  },
  "orig_nbformat": 4
 },
 "nbformat": 4,
 "nbformat_minor": 2
}
