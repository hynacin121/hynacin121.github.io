{
 "cells": [
  {
   "cell_type": "code",
   "execution_count": 33,
   "metadata": {},
   "outputs": [],
   "source": [
    "import pandas as pd\n",
    "import numpy as np\n",
    "\n",
    "\n",
    "def DiscountFactor(lam, period):\n",
    "    factor = 1/((1+ lam/2) ** period)\n",
    "    return(factor)    \n",
    "\n",
    "df = pd.DataFrame(index = [0, 0.5, 1, 1.5, 2, 2.5, 3], \n",
    "                  columns = ['Cashflow','DF', 'PVofCF','PV*t'] )\n",
    "df['Cashflow'] = [0, 3.5, 3.5, 3.5, 3.5, 3.5, 103.5]\n",
    "\n",
    "lam = 0.08\n",
    "\n",
    "\n",
    "\n",
    "\n"
   ]
  },
  {
   "cell_type": "code",
   "execution_count": 64,
   "metadata": {},
   "outputs": [
    {
     "data": {
      "text/html": [
       "<div>\n",
       "<style scoped>\n",
       "    .dataframe tbody tr th:only-of-type {\n",
       "        vertical-align: middle;\n",
       "    }\n",
       "\n",
       "    .dataframe tbody tr th {\n",
       "        vertical-align: top;\n",
       "    }\n",
       "\n",
       "    .dataframe thead th {\n",
       "        text-align: right;\n",
       "    }\n",
       "</style>\n",
       "<table border=\"1\" class=\"dataframe\">\n",
       "  <thead>\n",
       "    <tr style=\"text-align: right;\">\n",
       "      <th></th>\n",
       "      <th>Cashflow</th>\n",
       "      <th>DF</th>\n",
       "      <th>PVofCF</th>\n",
       "      <th>PV*t</th>\n",
       "    </tr>\n",
       "  </thead>\n",
       "  <tbody>\n",
       "    <tr>\n",
       "      <th>0.0</th>\n",
       "      <td>0.0</td>\n",
       "      <td>1.000000</td>\n",
       "      <td>0.000000</td>\n",
       "      <td>0.000000</td>\n",
       "    </tr>\n",
       "    <tr>\n",
       "      <th>0.5</th>\n",
       "      <td>3.5</td>\n",
       "      <td>0.961538</td>\n",
       "      <td>3.365385</td>\n",
       "      <td>1.682692</td>\n",
       "    </tr>\n",
       "    <tr>\n",
       "      <th>1.0</th>\n",
       "      <td>3.5</td>\n",
       "      <td>0.924556</td>\n",
       "      <td>3.235947</td>\n",
       "      <td>3.235947</td>\n",
       "    </tr>\n",
       "    <tr>\n",
       "      <th>1.5</th>\n",
       "      <td>3.5</td>\n",
       "      <td>0.888996</td>\n",
       "      <td>3.111487</td>\n",
       "      <td>4.667231</td>\n",
       "    </tr>\n",
       "    <tr>\n",
       "      <th>2.0</th>\n",
       "      <td>3.5</td>\n",
       "      <td>0.854804</td>\n",
       "      <td>2.991815</td>\n",
       "      <td>5.983629</td>\n",
       "    </tr>\n",
       "    <tr>\n",
       "      <th>2.5</th>\n",
       "      <td>3.5</td>\n",
       "      <td>0.821927</td>\n",
       "      <td>2.876745</td>\n",
       "      <td>7.191862</td>\n",
       "    </tr>\n",
       "    <tr>\n",
       "      <th>3.0</th>\n",
       "      <td>103.5</td>\n",
       "      <td>0.790315</td>\n",
       "      <td>81.797553</td>\n",
       "      <td>245.392660</td>\n",
       "    </tr>\n",
       "  </tbody>\n",
       "</table>\n",
       "</div>"
      ],
      "text/plain": [
       "     Cashflow        DF     PVofCF        PV*t\n",
       "0.0       0.0  1.000000   0.000000    0.000000\n",
       "0.5       3.5  0.961538   3.365385    1.682692\n",
       "1.0       3.5  0.924556   3.235947    3.235947\n",
       "1.5       3.5  0.888996   3.111487    4.667231\n",
       "2.0       3.5  0.854804   2.991815    5.983629\n",
       "2.5       3.5  0.821927   2.876745    7.191862\n",
       "3.0     103.5  0.790315  81.797553  245.392660"
      ]
     },
     "execution_count": 64,
     "metadata": {},
     "output_type": "execute_result"
    }
   ],
   "source": [
    "Factor = []\n",
    "for i in range(len(df)):\n",
    "    Factor.append(DiscountFactor(lam, i))\n",
    "df['DF'] = Factor\n",
    "\n",
    "\n",
    "PVofCF = []\n",
    "for i in range(len(df)):\n",
    "    PVofCF.append(Factor[i] * df.iloc[i,0])\n",
    "df['PVofCF'] = PVofCF\n",
    "\n",
    "\n",
    "PVT = []\n",
    "for i in range(len(df)):\n",
    "    PVT.append(PVofCF[i] * df.index[i])\n",
    "df['PV*t'] = PVT\n",
    "\n",
    "df"
   ]
  },
  {
   "cell_type": "code",
   "execution_count": 63,
   "metadata": {},
   "outputs": [
    {
     "data": {
      "text/plain": [
       "2.753717024504417"
      ]
     },
     "execution_count": 63,
     "metadata": {},
     "output_type": "execute_result"
    }
   ],
   "source": [
    "Duration = sum(PVT)/sum(PVofCF)\n",
    "\n",
    "Duration"
   ]
  }
 ],
 "metadata": {
  "interpreter": {
   "hash": "1607018b1a823a6a5b75e6ec7aaa9f9a407a828d03baff1f1154438ca22a9034"
  },
  "kernelspec": {
   "display_name": "Python 3.8.5 64-bit ('base': conda)",
   "language": "python",
   "name": "python3"
  },
  "language_info": {
   "codemirror_mode": {
    "name": "ipython",
    "version": 3
   },
   "file_extension": ".py",
   "mimetype": "text/x-python",
   "name": "python",
   "nbconvert_exporter": "python",
   "pygments_lexer": "ipython3",
   "version": "3.8.5"
  },
  "orig_nbformat": 4
 },
 "nbformat": 4,
 "nbformat_minor": 2
}
